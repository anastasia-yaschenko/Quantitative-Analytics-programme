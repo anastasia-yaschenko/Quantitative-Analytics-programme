{
 "cells": [
  {
   "cell_type": "code",
   "execution_count": 1,
   "metadata": {},
   "outputs": [],
   "source": [
    "import os\n",
    "import pandas as pd\n",
    "import numpy as np\n",
    "from datetime import datetime\n",
    "import investpy\n",
    "import yfinance as yf\n",
    "import matplotlib.pyplot as plt\n",
    "from sklearn.decomposition import PCA\n",
    "from pandas.plotting import register_matplotlib_converters\n",
    "register_matplotlib_converters()"
   ]
  },
  {
   "cell_type": "markdown",
   "metadata": {},
   "source": [
    "### Download stock data"
   ]
  },
  {
   "cell_type": "code",
   "execution_count": 2,
   "metadata": {},
   "outputs": [
    {
     "name": "stdout",
     "output_type": "stream",
     "text": [
      "There are 4582 etfs\n",
      "out of which 100 are chosen\n"
     ]
    }
   ],
   "source": [
    "all_stocks = investpy.get_stocks_list(country='United States')\n",
    "#all_stocks = investpy.etfs.get_etfs_list('united states')\n",
    "print('There are {} etfs'.format(str(len(all_stocks))))\n",
    "stocks_selected = all_stocks[:100]\n",
    "print('out of which '+  str(len(stocks_selected)) + ' are chosen')"
   ]
  },
  {
   "cell_type": "code",
   "execution_count": 3,
   "metadata": {},
   "outputs": [
    {
     "name": "stdout",
     "output_type": "stream",
     "text": [
      "[*********************100%***********************]  100 of 100 completed\n"
     ]
    }
   ],
   "source": [
    "#stocks_selected = ' '.join(stocks_selected)\n",
    "data = yf.download(stocks_selected, start = \"2010-01-02\", end = \"2020-09-05\")"
   ]
  },
  {
   "cell_type": "markdown",
   "metadata": {},
   "source": [
    "In the paper, authors drop all assets that contain at least 1 non-traded day (nan). But if we do this here, no stocks would be left at all, so we interpolate missing values"
   ]
  },
  {
   "cell_type": "code",
   "execution_count": 4,
   "metadata": {},
   "outputs": [
    {
     "name": "stdout",
     "output_type": "stream",
     "text": [
      "91 stocks left\n"
     ]
    }
   ],
   "source": [
    "close = data[['Adj Close']].dropna(axis = 1, how = 'all', thresh = data.shape[0] * 0.95) #drop stock if 5% of days are absent\n",
    "close = close.fillna(0)\n",
    "close.columns = close.columns.droplevel(0)\n",
    "close.index = pd.to_datetime(close.index)\n",
    "close.index = close.index.to_period(freq='d')\n",
    "print(str(close.shape[1]) + ' stocks left')"
   ]
  },
  {
   "cell_type": "code",
   "execution_count": 5,
   "metadata": {},
   "outputs": [
    {
     "data": {
      "text/html": [
       "<div>\n",
       "<style scoped>\n",
       "    .dataframe tbody tr th:only-of-type {\n",
       "        vertical-align: middle;\n",
       "    }\n",
       "\n",
       "    .dataframe tbody tr th {\n",
       "        vertical-align: top;\n",
       "    }\n",
       "\n",
       "    .dataframe thead th {\n",
       "        text-align: right;\n",
       "    }\n",
       "</style>\n",
       "<table border=\"1\" class=\"dataframe\">\n",
       "  <thead>\n",
       "    <tr style=\"text-align: right;\">\n",
       "      <th></th>\n",
       "      <th>AA</th>\n",
       "      <th>AAPL</th>\n",
       "      <th>ADBE</th>\n",
       "      <th>ADSK</th>\n",
       "      <th>AMAT</th>\n",
       "      <th>AMZN</th>\n",
       "      <th>ATLC</th>\n",
       "      <th>BA</th>\n",
       "      <th>BAC</th>\n",
       "      <th>BB</th>\n",
       "      <th>...</th>\n",
       "      <th>SPAR</th>\n",
       "      <th>STLD</th>\n",
       "      <th>T</th>\n",
       "      <th>TEVA</th>\n",
       "      <th>VIAV</th>\n",
       "      <th>VRSN</th>\n",
       "      <th>VRTX</th>\n",
       "      <th>WYNN</th>\n",
       "      <th>XRAY</th>\n",
       "      <th>ZION</th>\n",
       "    </tr>\n",
       "    <tr>\n",
       "      <th>Date</th>\n",
       "      <th></th>\n",
       "      <th></th>\n",
       "      <th></th>\n",
       "      <th></th>\n",
       "      <th></th>\n",
       "      <th></th>\n",
       "      <th></th>\n",
       "      <th></th>\n",
       "      <th></th>\n",
       "      <th></th>\n",
       "      <th></th>\n",
       "      <th></th>\n",
       "      <th></th>\n",
       "      <th></th>\n",
       "      <th></th>\n",
       "      <th></th>\n",
       "      <th></th>\n",
       "      <th></th>\n",
       "      <th></th>\n",
       "      <th></th>\n",
       "      <th></th>\n",
       "    </tr>\n",
       "  </thead>\n",
       "  <tbody>\n",
       "    <tr>\n",
       "      <th>2010-01-04</th>\n",
       "      <td>37.018944</td>\n",
       "      <td>6.604801</td>\n",
       "      <td>37.090000</td>\n",
       "      <td>25.670000</td>\n",
       "      <td>11.516642</td>\n",
       "      <td>133.899994</td>\n",
       "      <td>3.30</td>\n",
       "      <td>43.441975</td>\n",
       "      <td>13.816905</td>\n",
       "      <td>65.930000</td>\n",
       "      <td>...</td>\n",
       "      <td>5.092957</td>\n",
       "      <td>13.873272</td>\n",
       "      <td>15.742277</td>\n",
       "      <td>47.299187</td>\n",
       "      <td>4.812287</td>\n",
       "      <td>21.007998</td>\n",
       "      <td>44.240002</td>\n",
       "      <td>41.963718</td>\n",
       "      <td>33.034389</td>\n",
       "      <td>11.827960</td>\n",
       "    </tr>\n",
       "    <tr>\n",
       "      <th>2010-01-05</th>\n",
       "      <td>35.862801</td>\n",
       "      <td>6.616219</td>\n",
       "      <td>37.700001</td>\n",
       "      <td>25.280001</td>\n",
       "      <td>11.428047</td>\n",
       "      <td>134.690002</td>\n",
       "      <td>3.32</td>\n",
       "      <td>44.864773</td>\n",
       "      <td>14.266021</td>\n",
       "      <td>65.800003</td>\n",
       "      <td>...</td>\n",
       "      <td>5.493240</td>\n",
       "      <td>13.789833</td>\n",
       "      <td>15.665167</td>\n",
       "      <td>46.629093</td>\n",
       "      <td>4.829351</td>\n",
       "      <td>21.228777</td>\n",
       "      <td>42.779999</td>\n",
       "      <td>44.515926</td>\n",
       "      <td>32.641670</td>\n",
       "      <td>12.244997</td>\n",
       "    </tr>\n",
       "    <tr>\n",
       "      <th>2010-01-06</th>\n",
       "      <td>37.730419</td>\n",
       "      <td>6.510980</td>\n",
       "      <td>37.619999</td>\n",
       "      <td>25.340000</td>\n",
       "      <td>11.403889</td>\n",
       "      <td>132.250000</td>\n",
       "      <td>3.37</td>\n",
       "      <td>46.225727</td>\n",
       "      <td>14.433337</td>\n",
       "      <td>65.400002</td>\n",
       "      <td>...</td>\n",
       "      <td>5.927589</td>\n",
       "      <td>14.791073</td>\n",
       "      <td>15.435946</td>\n",
       "      <td>46.743496</td>\n",
       "      <td>5.073947</td>\n",
       "      <td>20.999506</td>\n",
       "      <td>42.029999</td>\n",
       "      <td>43.932011</td>\n",
       "      <td>32.856728</td>\n",
       "      <td>13.309779</td>\n",
       "    </tr>\n",
       "  </tbody>\n",
       "</table>\n",
       "<p>3 rows × 91 columns</p>\n",
       "</div>"
      ],
      "text/plain": [
       "                   AA      AAPL       ADBE       ADSK       AMAT        AMZN  \\\n",
       "Date                                                                           \n",
       "2010-01-04  37.018944  6.604801  37.090000  25.670000  11.516642  133.899994   \n",
       "2010-01-05  35.862801  6.616219  37.700001  25.280001  11.428047  134.690002   \n",
       "2010-01-06  37.730419  6.510980  37.619999  25.340000  11.403889  132.250000   \n",
       "\n",
       "            ATLC         BA        BAC         BB  ...      SPAR       STLD  \\\n",
       "Date                                               ...                        \n",
       "2010-01-04  3.30  43.441975  13.816905  65.930000  ...  5.092957  13.873272   \n",
       "2010-01-05  3.32  44.864773  14.266021  65.800003  ...  5.493240  13.789833   \n",
       "2010-01-06  3.37  46.225727  14.433337  65.400002  ...  5.927589  14.791073   \n",
       "\n",
       "                    T       TEVA      VIAV       VRSN       VRTX       WYNN  \\\n",
       "Date                                                                          \n",
       "2010-01-04  15.742277  47.299187  4.812287  21.007998  44.240002  41.963718   \n",
       "2010-01-05  15.665167  46.629093  4.829351  21.228777  42.779999  44.515926   \n",
       "2010-01-06  15.435946  46.743496  5.073947  20.999506  42.029999  43.932011   \n",
       "\n",
       "                 XRAY       ZION  \n",
       "Date                              \n",
       "2010-01-04  33.034389  11.827960  \n",
       "2010-01-05  32.641670  12.244997  \n",
       "2010-01-06  32.856728  13.309779  \n",
       "\n",
       "[3 rows x 91 columns]"
      ]
     },
     "execution_count": 5,
     "metadata": {},
     "output_type": "execute_result"
    }
   ],
   "source": [
    "close.head(3)"
   ]
  },
  {
   "cell_type": "code",
   "execution_count": 6,
   "metadata": {},
   "outputs": [
    {
     "data": {
      "text/html": [
       "<div>\n",
       "<style scoped>\n",
       "    .dataframe tbody tr th:only-of-type {\n",
       "        vertical-align: middle;\n",
       "    }\n",
       "\n",
       "    .dataframe tbody tr th {\n",
       "        vertical-align: top;\n",
       "    }\n",
       "\n",
       "    .dataframe thead th {\n",
       "        text-align: right;\n",
       "    }\n",
       "</style>\n",
       "<table border=\"1\" class=\"dataframe\">\n",
       "  <thead>\n",
       "    <tr style=\"text-align: right;\">\n",
       "      <th></th>\n",
       "      <th>AA</th>\n",
       "      <th>AAPL</th>\n",
       "      <th>ADBE</th>\n",
       "      <th>ADSK</th>\n",
       "      <th>AMAT</th>\n",
       "      <th>AMZN</th>\n",
       "      <th>ATLC</th>\n",
       "      <th>BA</th>\n",
       "      <th>BAC</th>\n",
       "      <th>BB</th>\n",
       "      <th>...</th>\n",
       "      <th>SPAR</th>\n",
       "      <th>STLD</th>\n",
       "      <th>T</th>\n",
       "      <th>TEVA</th>\n",
       "      <th>VIAV</th>\n",
       "      <th>VRSN</th>\n",
       "      <th>VRTX</th>\n",
       "      <th>WYNN</th>\n",
       "      <th>XRAY</th>\n",
       "      <th>ZION</th>\n",
       "    </tr>\n",
       "    <tr>\n",
       "      <th>Date</th>\n",
       "      <th></th>\n",
       "      <th></th>\n",
       "      <th></th>\n",
       "      <th></th>\n",
       "      <th></th>\n",
       "      <th></th>\n",
       "      <th></th>\n",
       "      <th></th>\n",
       "      <th></th>\n",
       "      <th></th>\n",
       "      <th></th>\n",
       "      <th></th>\n",
       "      <th></th>\n",
       "      <th></th>\n",
       "      <th></th>\n",
       "      <th></th>\n",
       "      <th></th>\n",
       "      <th></th>\n",
       "      <th></th>\n",
       "      <th></th>\n",
       "      <th></th>\n",
       "    </tr>\n",
       "  </thead>\n",
       "  <tbody>\n",
       "    <tr>\n",
       "      <th>2010-01-05</th>\n",
       "      <td>-0.031231</td>\n",
       "      <td>0.001729</td>\n",
       "      <td>0.016446</td>\n",
       "      <td>-0.015193</td>\n",
       "      <td>-0.007693</td>\n",
       "      <td>0.005900</td>\n",
       "      <td>0.006061</td>\n",
       "      <td>0.032752</td>\n",
       "      <td>0.032505</td>\n",
       "      <td>-0.001972</td>\n",
       "      <td>...</td>\n",
       "      <td>0.078595</td>\n",
       "      <td>-0.006014</td>\n",
       "      <td>-0.004898</td>\n",
       "      <td>-0.014167</td>\n",
       "      <td>0.003546</td>\n",
       "      <td>0.010509</td>\n",
       "      <td>-0.033002</td>\n",
       "      <td>0.060819</td>\n",
       "      <td>-0.011888</td>\n",
       "      <td>0.035259</td>\n",
       "    </tr>\n",
       "    <tr>\n",
       "      <th>2010-01-06</th>\n",
       "      <td>0.052077</td>\n",
       "      <td>-0.015906</td>\n",
       "      <td>-0.002122</td>\n",
       "      <td>0.002373</td>\n",
       "      <td>-0.002114</td>\n",
       "      <td>-0.018116</td>\n",
       "      <td>0.015060</td>\n",
       "      <td>0.030335</td>\n",
       "      <td>0.011728</td>\n",
       "      <td>-0.006079</td>\n",
       "      <td>...</td>\n",
       "      <td>0.079070</td>\n",
       "      <td>0.072607</td>\n",
       "      <td>-0.014633</td>\n",
       "      <td>0.002453</td>\n",
       "      <td>0.050648</td>\n",
       "      <td>-0.010800</td>\n",
       "      <td>-0.017532</td>\n",
       "      <td>-0.013117</td>\n",
       "      <td>0.006588</td>\n",
       "      <td>0.086957</td>\n",
       "    </tr>\n",
       "    <tr>\n",
       "      <th>2010-01-07</th>\n",
       "      <td>-0.021214</td>\n",
       "      <td>-0.001848</td>\n",
       "      <td>-0.019405</td>\n",
       "      <td>0.005525</td>\n",
       "      <td>-0.010593</td>\n",
       "      <td>-0.017013</td>\n",
       "      <td>0.026706</td>\n",
       "      <td>0.040482</td>\n",
       "      <td>0.032947</td>\n",
       "      <td>-0.001529</td>\n",
       "      <td>...</td>\n",
       "      <td>-0.007184</td>\n",
       "      <td>-0.006667</td>\n",
       "      <td>-0.011228</td>\n",
       "      <td>-0.006294</td>\n",
       "      <td>0.005605</td>\n",
       "      <td>-0.013748</td>\n",
       "      <td>-0.012610</td>\n",
       "      <td>0.021356</td>\n",
       "      <td>0.013091</td>\n",
       "      <td>0.112000</td>\n",
       "    </tr>\n",
       "  </tbody>\n",
       "</table>\n",
       "<p>3 rows × 91 columns</p>\n",
       "</div>"
      ],
      "text/plain": [
       "                  AA      AAPL      ADBE      ADSK      AMAT      AMZN  \\\n",
       "Date                                                                     \n",
       "2010-01-05 -0.031231  0.001729  0.016446 -0.015193 -0.007693  0.005900   \n",
       "2010-01-06  0.052077 -0.015906 -0.002122  0.002373 -0.002114 -0.018116   \n",
       "2010-01-07 -0.021214 -0.001848 -0.019405  0.005525 -0.010593 -0.017013   \n",
       "\n",
       "                ATLC        BA       BAC        BB  ...      SPAR      STLD  \\\n",
       "Date                                                ...                       \n",
       "2010-01-05  0.006061  0.032752  0.032505 -0.001972  ...  0.078595 -0.006014   \n",
       "2010-01-06  0.015060  0.030335  0.011728 -0.006079  ...  0.079070  0.072607   \n",
       "2010-01-07  0.026706  0.040482  0.032947 -0.001529  ... -0.007184 -0.006667   \n",
       "\n",
       "                   T      TEVA      VIAV      VRSN      VRTX      WYNN  \\\n",
       "Date                                                                     \n",
       "2010-01-05 -0.004898 -0.014167  0.003546  0.010509 -0.033002  0.060819   \n",
       "2010-01-06 -0.014633  0.002453  0.050648 -0.010800 -0.017532 -0.013117   \n",
       "2010-01-07 -0.011228 -0.006294  0.005605 -0.013748 -0.012610  0.021356   \n",
       "\n",
       "                XRAY      ZION  \n",
       "Date                            \n",
       "2010-01-05 -0.011888  0.035259  \n",
       "2010-01-06  0.006588  0.086957  \n",
       "2010-01-07  0.013091  0.112000  \n",
       "\n",
       "[3 rows x 91 columns]"
      ]
     },
     "execution_count": 6,
     "metadata": {},
     "output_type": "execute_result"
    }
   ],
   "source": [
    "returns = close.pct_change().iloc[1:, :]#fill_method='ffill').iloc[1:, :]\n",
    "returns = returns.replace([np.inf, -np.inf], np.nan)\n",
    "returns = returns.dropna(axis = 0)\n",
    "returns = returns.fillna(0)\n",
    "returns.head(3)"
   ]
  },
  {
   "cell_type": "markdown",
   "metadata": {},
   "source": [
    "### Filter with AR(1)-TGARCH(1,1,1)"
   ]
  },
  {
   "cell_type": "code",
   "execution_count": 7,
   "metadata": {},
   "outputs": [],
   "source": [
    "import statsmodels.api as sm\n",
    "from statsmodels.tsa.arima.model import ARIMA\n",
    "from arch import arch_model \n",
    "from arch.univariate import ARX, GARCH, StudentsT"
   ]
  },
  {
   "cell_type": "code",
   "execution_count": 8,
   "metadata": {},
   "outputs": [],
   "source": [
    "all_ret = np.full((returns.shape[0]-1, returns.shape[1]), 0, dtype = 'float64')\n",
    "\n",
    "for col in range(returns.shape[1]):\n",
    "    \n",
    "    #mod = HARX(close.iloc[:599], lags = [1, 2], rescale = False)\n",
    "    #mod.volatility = GARCH(p=1, o=1, q=1)\n",
    "    #mod.distribution = StudentsT()\n",
    "    order = 10 / returns.iloc[:, col].std()\n",
    "    mod = arch_model(order * returns.iloc[:, col],\n",
    "                    mean='ARX', lags=1, # mean = Constant, ARX, HARX + the number of lags\n",
    "                    vol='Garch', p=1, o=1, q=1, # vol = Garch, EGARCH, HARCH + the number of lags\n",
    "                    dist='skewstudent')#, rescale = False)#    StudentsT') \n",
    "    mod_fit = mod.fit(options = {'maxiter':500}, disp='off', show_warning = False)\n",
    "    all_ret[:, col] = mod_fit.resid[1:] / mod_fit.conditional_volatility[1:] \n",
    "all_ret = pd.DataFrame(all_ret, index = returns.index[1:], columns = returns.columns, dtype = 'float64')"
   ]
  },
  {
   "cell_type": "code",
   "execution_count": 9,
   "metadata": {},
   "outputs": [],
   "source": [
    "all_res = np.full((close.shape[0] - 1, close.shape[1]), 0,  dtype = 'float64')\n",
    "\n",
    "for col in range(close.shape[1]):\n",
    "       # mod = ARX(100 * returns.iloc[:, col], lags = [1, 2,])\n",
    "       # mod.volatility = GARCH(p=1, o=1, q=1)\n",
    "       # mod.distribution = StudentsT()\n",
    "    \"\"\"order = 0\n",
    "    if (close.iloc[:, col] >= 1000).all():\n",
    "        order = 0.01\n",
    "    elif (close.iloc[:, col] < 1).all():\n",
    "        order = 100\n",
    "    else:\n",
    "        order = 1\"\"\"\n",
    "    order = 10 / close.iloc[:, col].std()\n",
    "    mod = arch_model(order * close.iloc[:, col],\n",
    "                        mean='ARX', lags = 1, # mean = Constant, ARX, HARX + the number of lags\n",
    "                        vol='Garch', p=1, o=1, q=1, # vol = Garch, EGARCH, HARCH + the number of lags\n",
    "                        dist='skewstudent')#, rescale=False)#    StudentsT') \n",
    "    mod_fit = mod.fit(options = {'maxiter':500}, disp='off',  show_warning = False)\n",
    "    all_res[:, col] = mod_fit.resid[1:] / mod_fit.conditional_volatility[1:] \n",
    "all_res = pd.DataFrame(all_res, index = close.index[1:], columns = close.columns, dtype = 'float64')"
   ]
  },
  {
   "cell_type": "code",
   "execution_count": 10,
   "metadata": {},
   "outputs": [
    {
     "data": {
      "image/png": "[encoded data removed]",
      "text/plain": [
       "<Figure size 1080x144 with 1 Axes>"
      ]
     },
     "metadata": {
      "needs_background": "light"
     },
     "output_type": "display_data"
    },
    {
     "data": {
      "image/png": "[encoded data removed]",
      "text/plain": [
       "<Figure size 1080x144 with 1 Axes>"
      ]
     },
     "metadata": {
      "needs_background": "light"
     },
     "output_type": "display_data"
    }
   ],
   "source": [
    "plt.figure(figsize = (15, 2))\n",
    "plt.plot(returns.index.to_timestamp()[1:25], returns.iloc[1:25, 0], label = 'non-filtered returns');\n",
    "plt.figure(figsize = (15, 2))\n",
    "plt.plot(returns.index.to_timestamp()[1:25], all_ret.iloc[:24, 0], label = 'filtered returns devided by 100');\n",
    "plt.title('Filtered and non-filtered returns for {}'.format(all_ret.columns[0]))\n",
    "plt.legend()\n",
    "plt.xlabel('date')\n",
    "plt.ylabel('percentage returns');"
   ]
  },
  {
   "cell_type": "code",
   "execution_count": 11,
   "metadata": {},
   "outputs": [
    {
     "data": {
      "image/png": "[encoded data removed]",
      "text/plain": [
       "<Figure size 1080x288 with 1 Axes>"
      ]
     },
     "metadata": {
      "needs_background": "light"
     },
     "output_type": "display_data"
    }
   ],
   "source": [
    "plt.figure(figsize = (15,4))\n",
    "plt.plot(returns.index.to_timestamp()[1:51], close.iloc[1:51, 0], label = 'non-filtered price');\n",
    "plt.plot(returns.index.to_timestamp()[1:51], all_res.iloc[:50, 0] + 37, label = 'filtered price + 37');\n",
    "plt.title('Filtered and non-filtered prices for {}'.format(all_res.columns[0]))\n",
    "plt.legend()\n",
    "plt.xlabel('date')\n",
    "plt.ylabel('price');"
   ]
  },
  {
   "cell_type": "code",
   "execution_count": 12,
   "metadata": {},
   "outputs": [],
   "source": [
    "#split in training, validation and test sets\n",
    "#THESE ARE FILTERED PRICES\n",
    "price_train = all_res.loc[:'2019-01-01', :]\n",
    "price_val = all_res.loc['2019-01-01':'2020-01-01']\n",
    "price_test = all_res.loc['2020-01-01':]\n",
    "#THESE ARE NON-FILTERED PRICES\n",
    "raw_price_train = close.loc[:'2019-01-01', :]\n",
    "raw_price_val = close.loc['2019-01-01':'2020-01-01']\n",
    "raw_price_test = close.loc['2020-01-01':]\n",
    "# returns filtered\n",
    "filt_ret = all_ret.loc[:'2019-01-01', :]"
   ]
  },
  {
   "cell_type": "code",
   "execution_count": null,
   "metadata": {},
   "outputs": [],
   "source": []
  },
  {
   "cell_type": "markdown",
   "metadata": {},
   "source": [
    "### PCA dimensionality reduction and OPTICS clustering\n",
    "   The authors use 15 principal components in PCA but we use a larger number due to the fact that out time series is longer (authors had 8 years of training data) and it could be we cannot describe it well in 15 components. Then, these components serve as input to OPTICS - density based clustering method. To choose among models, we use silhouette score. It is in range between -1 and 1, the higher it is the better."
   ]
  },
  {
   "cell_type": "code",
   "execution_count": 14,
   "metadata": {},
   "outputs": [],
   "source": [
    "def find_max(silhouette):\n",
    "    all_vals = []\n",
    "    for val in silhouette.values():\n",
    "        all_vals.extend(val)\n",
    "    return all_vals\n",
    "\n",
    "def best_params(silhouette):\n",
    "    all_vals = find_max(silhouette)\n",
    "    max_val = max(all_vals)\n",
    "    for key, val in silhouette.items():\n",
    "        if max_val in val:\n",
    "            return key, val.index(max_val) + 2, max_val"
   ]
  },
  {
   "cell_type": "code",
   "execution_count": 15,
   "metadata": {},
   "outputs": [
    {
     "name": "stdout",
     "output_type": "stream",
     "text": [
      "best silhouette_score is 0.20001303764530118 at 2 min_samples and 2 components\n"
     ]
    }
   ],
   "source": [
    "from sklearn.cluster import OPTICS\n",
    "from sklearn.metrics import silhouette_score\n",
    "\n",
    "silhouette = dict()\n",
    "for comp in range(2, 16):\n",
    "    partial_silh = list()\n",
    "    pca = PCA(n_components = comp, svd_solver = 'auto')\n",
    "    pca_fit = pca.fit_transform(filt_ret.transpose())\n",
    "    for min_sampl in range(2, 7):\n",
    "        try:\n",
    "            clusters = OPTICS(min_samples = min_sampl).fit(pca_fit) #metric = 'euclidean' min_cluster_size = 5\n",
    "            partial_silh.append(silhouette_score(pca_fit, clusters.labels_))\n",
    "        except: pass\n",
    "    silhouette[comp] = partial_silh\n",
    "    \n",
    "best_comp, best_min_smpl, best_score = best_params(silhouette)\n",
    "print('best silhouette_score is ' + str(best_score) + ' at ' + str(best_min_smpl) + ' min_samples and ' +\n",
    "      str(best_comp) + ' components')"
   ]
  },
  {
   "cell_type": "code",
   "execution_count": 16,
   "metadata": {},
   "outputs": [],
   "source": [
    "pca = PCA(n_components = best_comp, svd_solver = 'auto')\n",
    "pca_fit = pca.fit_transform(filt_ret.transpose())\n",
    "clusters = OPTICS(min_samples = best_min_smpl).fit(pca_fit)"
   ]
  },
  {
   "cell_type": "code",
   "execution_count": null,
   "metadata": {},
   "outputs": [],
   "source": []
  },
  {
   "cell_type": "code",
   "execution_count": 17,
   "metadata": {},
   "outputs": [
    {
     "name": "stdout",
     "output_type": "stream",
     "text": [
      "Number of clusters is 25\n"
     ]
    },
    {
     "data": {
      "image/png": "[encoded data removed]",
      "text/plain": [
       "<Figure size 1296x1296 with 1 Axes>"
      ]
     },
     "metadata": {
      "needs_background": "light"
     },
     "output_type": "display_data"
    }
   ],
   "source": [
    "from sklearn.manifold import TSNE\n",
    "import matplotlib.colors as mcolors\n",
    "\n",
    "tsne = TSNE(n_components = 2, perplexity = 6).fit_transform(pca_fit)\n",
    "\n",
    "print('Number of clusters is ' + str(clusters.labels_.max()-clusters.labels_.min()))\n",
    "colors = list(mcolors.CSS4_COLORS.keys())[10:]\n",
    "plt.figure(figsize=(18,18))\n",
    "for klass in range(clusters.labels_.min(), clusters.labels_.max()):\n",
    "    plt.scatter(tsne[clusters.labels_ == klass][:, 0], tsne[clusters.labels_ == klass][:, 1],\n",
    "               c = colors[klass], label = 'class {}'.format(str(klass)))\n",
    "for i, txt in enumerate(filt_ret.columns):\n",
    "    plt.annotate(txt, (tsne[i, 0], tsne[i, 1]))\n",
    "#plt.legend()\n",
    "plt.title('Visualisation of clusters');"
   ]
  },
  {
   "cell_type": "code",
   "execution_count": 18,
   "metadata": {},
   "outputs": [],
   "source": [
    "#do not include class -1 since these are outliers/points without claster\n",
    "def make_classes(df):\n",
    "    classes = dict()\n",
    "    for cl in range(0, clusters.labels_.max()): \n",
    "        klass = df.transpose()[clusters.labels_ == cl]\n",
    "        classes[cl] = klass\n",
    "    return classes"
   ]
  },
  {
   "cell_type": "code",
   "execution_count": 19,
   "metadata": {},
   "outputs": [],
   "source": [
    "raw_classes = make_classes(raw_price_train)"
   ]
  },
  {
   "cell_type": "markdown",
   "metadata": {},
   "source": [
    "### Select pairs\n",
    "Next, we select pairs based on the following criteria:\n",
    "- cointegration\n",
    "- Hurst exponent < 0.5\n",
    "- half-life of mean reversion\n",
    "- average number of crossings of spread mean per year"
   ]
  },
  {
   "cell_type": "code",
   "execution_count": 20,
   "metadata": {},
   "outputs": [],
   "source": [
    "from statsmodels.tsa.stattools import coint\n",
    "from hurst import compute_Hc\n",
    "from scipy.ndimage.interpolation import shift\n",
    "from sklearn import linear_model"
   ]
  },
  {
   "cell_type": "code",
   "execution_count": 21,
   "metadata": {},
   "outputs": [],
   "source": [
    "def compose_pairs(classes):\n",
    "    pairs = list()\n",
    "    for cl in classes.keys():\n",
    "        tested_pairs = list()\n",
    "        for smpl in range(classes[cl].shape[0]):\n",
    "            for smpl2 in range(classes[cl].shape[0]):\n",
    "                if smpl != smpl2 and (smpl2, smpl) not in tested_pairs: #no cointegration with itself, check pair has not been tested\n",
    "                    tested_pairs.append((smpl2, smpl))\n",
    "                    cointegrated = coint(classes[cl].iloc[smpl, :], classes[cl].iloc[smpl2, :], return_results = True)\n",
    "                    if cointegrated[1] < 0.05: #pvalue\n",
    "                        pairs.append([classes[cl].iloc[smpl, :], classes[cl].iloc[smpl2,:]])\n",
    "    #pairs = pairs[1:]#the first pair is repeated\n",
    "    print('There are {} pairs at cointegration stage'.format(len(pairs)))\n",
    "    return pairs"
   ]
  },
  {
   "cell_type": "code",
   "execution_count": 22,
   "metadata": {},
   "outputs": [],
   "source": [
    "#check spread mean-reversion\n",
    "def calc_Hurst(pairs):\n",
    "    for pair in pairs:\n",
    "        spread = pair[0] - pair[1]\n",
    "        H, c, data = compute_Hc(spread)\n",
    "        if H >= 0.5: #Brownian motion or persistent\n",
    "            for ts in pair:\n",
    "                pair.remove(ts)\n",
    "            pairs.remove(pair)\n",
    "    print('There are {} pairs at Hurst stage'.format(len(pairs)))\n",
    "    return pairs"
   ]
  },
  {
   "cell_type": "code",
   "execution_count": 23,
   "metadata": {},
   "outputs": [],
   "source": [
    "#check mean-reversion half life\n",
    "# https://letianzj.github.io/mean-reversion.html\n",
    "\n",
    "def calc_half_life(pairs):\n",
    "    lin_reg = linear_model.LinearRegression()\n",
    "    for pair in pairs:\n",
    "        for ts_n, ts in enumerate(pair):\n",
    "            ts_delta = ts - ts.shift()\n",
    "            lin_reg.fit(np.array(ts.shift()[1:]).reshape(-1,1), np.array(ts_delta[1:]).reshape(-1,1)) \n",
    "            half_life = -np.log(2) / lin_reg.coef_.item()\n",
    "            if half_life < 1 or half_life > 365:\n",
    "                del pair[ts_n]\n",
    "                pairs.remove(pair)\n",
    "                break\n",
    "    print('There are {} pairs at mean-reversion half life stage'.format(len(pairs)))\n",
    "    return pairs"
   ]
  },
  {
   "cell_type": "code",
   "execution_count": 24,
   "metadata": {},
   "outputs": [],
   "source": [
    "#check that on average there are at least 12 crossings of spread mean per year\n",
    "def number_mean_reversions(pairs):\n",
    "    years_num  = len(price_train.index.to_timestamp().year.unique())\n",
    "    for pair in pairs:\n",
    "        spread = pair[0] - pair[1]\n",
    "        crosses = 0\n",
    "        for i in range(len(spread) - 1):\n",
    "            if (spread[i] > spread.mean() and spread[i + 1] < spread.mean()) or (spread[i] < spread.mean() and spread[i + 1] > spread.mean()):\n",
    "                crosses += 1\n",
    "        if crosses < 12 * years_num:\n",
    "            for ts in pair:\n",
    "                pair.remove(ts)\n",
    "            pairs.remove(pair)\n",
    "    print('There are {} pairs at calculation of mean-reversions number stage'.format(len(pairs)))\n",
    "    return pairs"
   ]
  },
  {
   "cell_type": "code",
   "execution_count": 25,
   "metadata": {},
   "outputs": [
    {
     "name": "stdout",
     "output_type": "stream",
     "text": [
      "There are 9 pairs at cointegration stage\n",
      "There are 8 pairs at Hurst stage\n",
      "There are 8 pairs at mean-reversion half life stage\n",
      "There are 4 pairs at calculation of mean-reversions number stage\n"
     ]
    }
   ],
   "source": [
    "raw_pairs = compose_pairs(raw_classes)\n",
    "raw_pairs = calc_Hurst(raw_pairs)\n",
    "raw_pairs = calc_half_life(raw_pairs)\n",
    "raw_pairs = number_mean_reversions(raw_pairs)"
   ]
  },
  {
   "cell_type": "code",
   "execution_count": 26,
   "metadata": {},
   "outputs": [
    {
     "ename": "NameError",
     "evalue": "name 'pairs' is not defined",
     "output_type": "error",
     "traceback": [
      "\u001b[1;31m---------------------------------------------------------------------------\u001b[0m",
      "\u001b[1;31mNameError\u001b[0m                                 Traceback (most recent call last)",
      "\u001b[1;32m<ipython-input-26-b2bd11c2b33c>\u001b[0m in \u001b[0;36m<module>\u001b[1;34m\u001b[0m\n\u001b[0;32m      1\u001b[0m \u001b[0mplt\u001b[0m\u001b[1;33m.\u001b[0m\u001b[0mfigure\u001b[0m\u001b[1;33m(\u001b[0m\u001b[0mfigsize\u001b[0m \u001b[1;33m=\u001b[0m \u001b[1;33m(\u001b[0m\u001b[1;36m15\u001b[0m\u001b[1;33m,\u001b[0m \u001b[1;36m4\u001b[0m\u001b[1;33m)\u001b[0m\u001b[1;33m)\u001b[0m\u001b[1;33m\u001b[0m\u001b[1;33m\u001b[0m\u001b[0m\n\u001b[1;32m----> 2\u001b[1;33m \u001b[0mplt\u001b[0m\u001b[1;33m.\u001b[0m\u001b[0mplot\u001b[0m\u001b[1;33m(\u001b[0m\u001b[0mpairs\u001b[0m\u001b[1;33m[\u001b[0m\u001b[1;36m0\u001b[0m\u001b[1;33m]\u001b[0m\u001b[1;33m[\u001b[0m\u001b[1;36m0\u001b[0m\u001b[1;33m]\u001b[0m\u001b[1;33m.\u001b[0m\u001b[0mindex\u001b[0m\u001b[1;33m.\u001b[0m\u001b[0mto_timestamp\u001b[0m\u001b[1;33m(\u001b[0m\u001b[1;33m)\u001b[0m\u001b[1;33m[\u001b[0m\u001b[1;33m:\u001b[0m\u001b[1;36m50\u001b[0m\u001b[1;33m]\u001b[0m\u001b[1;33m,\u001b[0m \u001b[0mpairs\u001b[0m\u001b[1;33m[\u001b[0m\u001b[1;36m0\u001b[0m\u001b[1;33m]\u001b[0m\u001b[1;33m[\u001b[0m\u001b[1;36m0\u001b[0m\u001b[1;33m]\u001b[0m\u001b[1;33m[\u001b[0m\u001b[1;33m:\u001b[0m\u001b[1;36m50\u001b[0m\u001b[1;33m]\u001b[0m\u001b[1;33m,\u001b[0m \u001b[0mlabel\u001b[0m \u001b[1;33m=\u001b[0m \u001b[0mpairs\u001b[0m\u001b[1;33m[\u001b[0m\u001b[1;36m0\u001b[0m\u001b[1;33m]\u001b[0m\u001b[1;33m[\u001b[0m\u001b[1;36m0\u001b[0m\u001b[1;33m]\u001b[0m\u001b[1;33m.\u001b[0m\u001b[0mname\u001b[0m\u001b[1;33m)\u001b[0m\u001b[1;33m\u001b[0m\u001b[1;33m\u001b[0m\u001b[0m\n\u001b[0m\u001b[0;32m      3\u001b[0m \u001b[0mplt\u001b[0m\u001b[1;33m.\u001b[0m\u001b[0mplot\u001b[0m\u001b[1;33m(\u001b[0m\u001b[0mpairs\u001b[0m\u001b[1;33m[\u001b[0m\u001b[1;36m0\u001b[0m\u001b[1;33m]\u001b[0m\u001b[1;33m[\u001b[0m\u001b[1;36m1\u001b[0m\u001b[1;33m]\u001b[0m\u001b[1;33m.\u001b[0m\u001b[0mindex\u001b[0m\u001b[1;33m.\u001b[0m\u001b[0mto_timestamp\u001b[0m\u001b[1;33m(\u001b[0m\u001b[1;33m)\u001b[0m\u001b[1;33m[\u001b[0m\u001b[1;33m:\u001b[0m\u001b[1;36m50\u001b[0m\u001b[1;33m]\u001b[0m\u001b[1;33m,\u001b[0m \u001b[0mpairs\u001b[0m\u001b[1;33m[\u001b[0m\u001b[1;36m0\u001b[0m\u001b[1;33m]\u001b[0m\u001b[1;33m[\u001b[0m\u001b[1;36m1\u001b[0m\u001b[1;33m]\u001b[0m\u001b[1;33m[\u001b[0m\u001b[1;33m:\u001b[0m\u001b[1;36m50\u001b[0m\u001b[1;33m]\u001b[0m\u001b[1;33m,\u001b[0m \u001b[0mlabel\u001b[0m \u001b[1;33m=\u001b[0m \u001b[0mpairs\u001b[0m\u001b[1;33m[\u001b[0m\u001b[1;36m0\u001b[0m\u001b[1;33m]\u001b[0m\u001b[1;33m[\u001b[0m\u001b[1;36m1\u001b[0m\u001b[1;33m]\u001b[0m\u001b[1;33m.\u001b[0m\u001b[0mname\u001b[0m\u001b[1;33m)\u001b[0m\u001b[1;33m\u001b[0m\u001b[1;33m\u001b[0m\u001b[0m\n\u001b[0;32m      4\u001b[0m \u001b[0mplt\u001b[0m\u001b[1;33m.\u001b[0m\u001b[0mlegend\u001b[0m\u001b[1;33m(\u001b[0m\u001b[1;33m)\u001b[0m\u001b[1;33m\u001b[0m\u001b[1;33m\u001b[0m\u001b[0m\n\u001b[0;32m      5\u001b[0m \u001b[0mplt\u001b[0m\u001b[1;33m.\u001b[0m\u001b[0mxlabel\u001b[0m\u001b[1;33m(\u001b[0m\u001b[1;34m'date'\u001b[0m\u001b[1;33m)\u001b[0m\u001b[1;33m\u001b[0m\u001b[1;33m\u001b[0m\u001b[0m\n",
      "\u001b[1;31mNameError\u001b[0m: name 'pairs' is not defined"
     ]
    },
    {
     "data": {
      "text/plain": [
       "<Figure size 1080x288 with 0 Axes>"
      ]
     },
     "metadata": {},
     "output_type": "display_data"
    }
   ],
   "source": [
    "plt.figure(figsize = (15, 4))\n",
    "plt.plot(pairs[0][0].index.to_timestamp()[:50], pairs[0][0][:50], label = pairs[0][0].name)\n",
    "plt.plot(pairs[0][1].index.to_timestamp()[:50], pairs[0][1][:50], label = pairs[0][1].name)\n",
    "plt.legend()\n",
    "plt.xlabel('date')\n",
    "plt.ylabel('filtered price')\n",
    "plt.title('Filtered prices of {} and {}'.format(pairs[0][0].name, pairs[0][1].name));"
   ]
  },
  {
   "cell_type": "code",
   "execution_count": 24,
   "metadata": {},
   "outputs": [
    {
     "name": "stderr",
     "output_type": "stream",
     "text": [
      "C:\\Users\\Dell\\AppData\\Roaming\\Python\\Python37\\site-packages\\pandas\\core\\indexing.py:805: FutureWarning: \n",
      "Passing list-likes to .loc or [] with any missing label will raise\n",
      "KeyError in the future, you can use .reindex() as an alternative.\n",
      "\n",
      "See the documentation here:\n",
      "https://pandas.pydata.org/pandas-docs/stable/user_guide/indexing.html#deprecate-loc-reindex-listlike\n",
      "  return self._getitem_lowerdim(tup)\n",
      "C:\\Users\\Dell\\AppData\\Roaming\\Python\\Python37\\site-packages\\pandas\\core\\indexing.py:805: FutureWarning: \n",
      "Passing list-likes to .loc or [] with any missing label will raise\n",
      "KeyError in the future, you can use .reindex() as an alternative.\n",
      "\n",
      "See the documentation here:\n",
      "https://pandas.pydata.org/pandas-docs/stable/user_guide/indexing.html#deprecate-loc-reindex-listlike\n",
      "  return self._getitem_lowerdim(tup)\n"
     ]
    },
    {
     "data": {
      "image/png": "[encoded data removed]",
      "text/plain": [
       "<Figure size 1080x288 with 1 Axes>"
      ]
     },
     "metadata": {
      "needs_background": "light"
     },
     "output_type": "display_data"
    }
   ],
   "source": [
    "#Попробовать на нефильтрованных данных\n",
    "plt.figure(figsize = (15, 4))\n",
    "plt.plot(pairs[0][0].index.to_timestamp(), close.loc[pairs[0][0].index, ('Adj Close',pairs[0][0].name)], label = pairs[0][0].name)\n",
    "plt.plot(pairs[0][1].index.to_timestamp(), close.loc[pairs[0][1].index, ('Adj Close',pairs[0][1].name)], label = pairs[0][1].name)\n",
    "plt.legend()\n",
    "plt.xlabel('date')\n",
    "plt.ylabel('price')\n",
    "plt.title('Prices of {} and {}'.format(pairs[0][0].name, pairs[0][1].name));"
   ]
  },
  {
   "cell_type": "markdown",
   "metadata": {},
   "source": [
    "### Spread prediction"
   ]
  },
  {
   "cell_type": "code",
   "execution_count": 27,
   "metadata": {},
   "outputs": [],
   "source": [
    "def spread_change(spread):\n",
    "    spread_chg = (spread.shift(-1) - spread)[:-1]\n",
    "    #spread[spread == 0] = 0.00000001 #to avoid division by zero\n",
    "    spread_chg = spread_chg / spread[:-1]\n",
    "    return spread_chg"
   ]
  },
  {
   "cell_type": "code",
   "execution_count": null,
   "metadata": {},
   "outputs": [],
   "source": []
  },
  {
   "cell_type": "code",
   "execution_count": 27,
   "metadata": {},
   "outputs": [],
   "source": [
    "#formation period - train set\n",
    "#pairs - filtered prices but need to use ordinary ones\n",
    "spread = pairs[0][0] - pairs[0][1]\n",
    "spread_chg = spread_change(spread)"
   ]
  },
  {
   "cell_type": "code",
   "execution_count": 28,
   "metadata": {},
   "outputs": [
    {
     "data": {
      "image/png": "[encoded data removed]",
      "text/plain": [
       "<Figure size 432x288 with 1 Axes>"
      ]
     },
     "metadata": {
      "needs_background": "light"
     },
     "output_type": "display_data"
    }
   ],
   "source": [
    "from statsmodels.graphics.tsaplots import plot_acf\n",
    "plot_acf(spread); #it is rather small, so try lags in range of 1"
   ]
  },
  {
   "cell_type": "code",
   "execution_count": 38,
   "metadata": {},
   "outputs": [],
   "source": [
    "q = np.quantile(spread_chg, [0.2, 0.8], interpolation = 'linear')\n",
    "d = np.quantile(spread_chg, [0.1, 0.9], interpolation = 'linear')"
   ]
  },
  {
   "cell_type": "code",
   "execution_count": null,
   "metadata": {},
   "outputs": [],
   "source": []
  },
  {
   "cell_type": "code",
   "execution_count": 31,
   "metadata": {},
   "outputs": [
    {
     "data": {
      "image/png": "[encoded data removed]",
      "text/plain": [
       "<Figure size 504x360 with 1 Axes>"
      ]
     },
     "metadata": {
      "needs_background": "light"
     },
     "output_type": "display_data"
    }
   ],
   "source": [
    "plt.figure(figsize=(7, 5))\n",
    "plt.hist(spread_chg, bins = 500)\n",
    "plt.title('Distribution of {}-{} spread percentage change'.format(pairs[0][0].name, pairs[0][1].name))\n",
    "plt.xlabel('percentage change')\n",
    "plt.ylabel('day count')\n",
    "for dec in d:\n",
    "    plt.vlines(dec, 0, 130, colors = 'pink', label = '{} decile'.format(dec))\n",
    "for quant in q:\n",
    "    plt.vlines(quant, 0, 130, colors = 'red', label = '{} qunatile'.format(quant))\n",
    "plt.legend()\n",
    "plt.xlim(-50, 50)\n",
    "plt.ylim(0,130);"
   ]
  },
  {
   "cell_type": "code",
   "execution_count": null,
   "metadata": {},
   "outputs": [],
   "source": []
  },
  {
   "cell_type": "code",
   "execution_count": 80,
   "metadata": {},
   "outputs": [],
   "source": [
    "def trade(a_sh, a_lo, window, account, price_pred, price_val, name1, name2):\n",
    "    portfolio_value_list = []\n",
    "    acc_return_list = []\n",
    "    cap_invested = []\n",
    "    comission = 0.001\n",
    "    stock1 = 0\n",
    "    stock2 = 0\n",
    "    acc_return = 0.0\n",
    "    prev_capital = 0.0\n",
    "    prev_price1 = 0.0\n",
    "    prev_price2 = 0.0\n",
    "    prev_stock1 = 0\n",
    "    prev_stock2 = 0\n",
    "    start_idx = 0\n",
    "    trade_indicator = 'no_trade'\n",
    "    portfolio_value = 0\n",
    "    end_idx = start_idx + window + 1 #last observation is not included\n",
    "    resid = 0.0\n",
    "    while end_idx <= price_val.shape[0] - 1:\n",
    "        p1 = price_pred[name1][start_idx:end_idx]\n",
    "        p2 = price_pred[name2][start_idx:end_idx]\n",
    "        if (p1 < 0).any():\n",
    "            p1[p1 < 0] = -p1[p1 < 0]\n",
    "        if (p2 < 0).any():\n",
    "            p2[p2 < 0] = -p2[p2 < 0]\n",
    "        spread = p1 - p2\n",
    "        arma = ARIMA(np.array(spread), order = (1,0,1)).fit()\n",
    "        pred = arma.forecast(steps=1, exog=None, alpha=0.01)\n",
    "        pred_chg = (pred - spread[-1:] / spread[-1:])[0]\n",
    "        \n",
    "        price1 = price_val.loc[spread[-1:].index, name1][0]\n",
    "        price2 = price_val.loc[spread[-1:].index, name2][0]\n",
    "        if price1 < 0:\n",
    "            price1 = - price1\n",
    "        if price2 < 0:\n",
    "            price2 = - price2\n",
    "        portfolio_value = resid + stock1 * price1 + stock2 * price2 #portfolio revaluation \n",
    "        portfolio_value_list.append(portfolio_value)\n",
    "        \n",
    "        if price1 != 0 and price2 != 0: #if stock was traded\n",
    "            if trade_indicator == 'short':\n",
    "                acc_return += ((prev_price1 - price1)*prev_stock1 + (price2 - prev_price2)*prev_stock2) / prev_capital\n",
    "            elif trade_indicator == 'long':\n",
    "                acc_return += (prev_price2 - price2)*prev_stock2 + (price1 - prev_price1)*prev_price1 / prev_capital\n",
    "            acc_return_list.append(acc_return)\n",
    "            \n",
    "            if pred_chg <= a_sh:\n",
    "                trade_indicator = 'short'\n",
    "                deal1 = stock1 * price1 * (1 - comission) #sell stock1\n",
    "                if stock1 != 0:\n",
    "                    prev_stock1 = stock1\n",
    "                if deal1 > allocated_capital: \n",
    "                    stock1_to_sell = allocated_capital // (price1 * (1 - comission))\n",
    "                    deal1 = stock1_to_sell * price1 * (1 - comission)\n",
    "                    stock1 -= stock1_to_sell\n",
    "                    if stock1_to_sell != 0:\n",
    "                        prev_stock1 = stock1_to_sell\n",
    "                else:\n",
    "                    stock1 = 0\n",
    "                account += deal1\n",
    "                stock_2_bought = account // (price2 * (1 + comission))\n",
    "                deal2 = stock_2_bought * price2 * (1 + comission) #buy stock2\n",
    "                if deal2 > allocated_capital:\n",
    "                    stock_2_bought = allocated_capital // (price2 * (1 + comission))\n",
    "                    deal2 = stock_2_bought * price2 * (1 + comission)\n",
    "                account -= deal2\n",
    "                resid = account\n",
    "                stock2 += stock_2_bought\n",
    "\n",
    "                if deal1+deal2 != 0:\n",
    "                    prev_capital = deal1+deal2\n",
    "                    cap_invested.append(prev_capital)\n",
    "                if stock_2_bought != 0:\n",
    "                    prev_stock2 = stock_2_bought\n",
    "\n",
    "            elif pred_chg >= a_lo:\n",
    "                trade_indicator = 'long'\n",
    "                deal2 = stock2 * price2 * (1 - comission) #sell stock2\n",
    "                if stock2 != 0:\n",
    "                    prev_stock2 = stock2\n",
    "                if deal2 > allocated_capital:\n",
    "                    stock2_to_sell = allocated_capital // (price2 * (1 - comission))\n",
    "                    deal2 = stock2_to_sell * price2 * (1 - comission)\n",
    "                    stock2 -= stock2_to_sell\n",
    "                    if stock2_to_sell != 0:\n",
    "                        prev_stock2 = stock2_to_sell\n",
    "                else:\n",
    "                    stock2 = 0\n",
    "                account += deal2\n",
    "                stock_1_bought = account // (price1 * (1 + comission))\n",
    "                deal1 = stock_1_bought * price1 * (1 + comission) #buy stock1\n",
    "                if deal1 > allocated_capital:\n",
    "                    stock_1_bought = allocated_capital // (price1 * (1 + comission))\n",
    "                    deal1 = stock_1_bought * price1 * (1 + comission)\n",
    "                account -= deal1\n",
    "                resid = account\n",
    "                stock1 += stock_1_bought\n",
    "                if deal1+deal2 != 0:\n",
    "                    prev_capital = deal1+deal2\n",
    "                    cap_invested.append(prev_capital)\n",
    "                if stock_1_bought != 0:\n",
    "                    prev_stock1 = stock_1_bought\n",
    "\n",
    "            prev_price1 = price1\n",
    "            prev_price2 = price2\n",
    "            \n",
    "        start_idx += 1\n",
    "        end_idx += 1\n",
    "        \n",
    "    portfolio_value_list[0] = allocated_capital\n",
    "    return acc_return_list, portfolio_value_list, cap_invested\n",
    "\n",
    "def calc_returns(val_port_value, allocated_capital):\n",
    "    total_returns = []\n",
    "    for p in val_port_value:\n",
    "            total_returns.append((p - allocated_capital) * 100 / allocated_capital)\n",
    "            total_returns[0] = 0\n",
    "    return total_returns #because at index 0 there has not been any return yet\n",
    "    "
   ]
  },
  {
   "cell_type": "code",
   "execution_count": 81,
   "metadata": {},
   "outputs": [],
   "source": [
    "from statsmodels.tsa.arima.model import ARIMA\n",
    "\n",
    "def find_thresholds(pairs,price_train, price_pred, price_val, window, allocated_capital):\n",
    "    chosen_params = []\n",
    "    cv_profit = []\n",
    "\n",
    "    for pair_num in range(len(pairs)):\n",
    "        name1 = pairs[pair_num][0].name\n",
    "        name2 = pairs[pair_num][1].name\n",
    "        spread = price_train.loc[:, name1] - price_train.loc[:, name2]\n",
    "        spread_chg = spread_change(spread)\n",
    "        quantiles = np.quantile(spread_chg, [0.2, 0.8], interpolation = 'linear')\n",
    "        deciles = np.quantile(spread_chg, [0.1, 0.9], interpolation = 'linear')\n",
    "\n",
    "        cv_thresh_res = []\n",
    "        for thresh in [quantiles, deciles]:\n",
    "            val_returns, val_port_value, cap_inv = trade(thresh[0], thresh[1], window, allocated_capital, price_pred, price_val, name1, name2) \n",
    "            total_returns = calc_returns(val_port_value, allocated_capital)\n",
    "            cv_thresh_res.append(sum(total_returns))\n",
    "            #cv_thresh_res.append(account)\n",
    "        best_thresh = cv_thresh_res.index(max(cv_thresh_res))\n",
    "        if best_thresh == 0:\n",
    "            chosen_params.append(pd.Series(quantiles,name = pairs[pair_num][0].name + '-' + pairs[pair_num][1].name))\n",
    "        else:\n",
    "            chosen_params.append(pd.Series(deciles, name = pairs[pair_num][0].name + '-' + pairs[pair_num][1].name))\n",
    "        max_profit =  max(cv_thresh_res)\n",
    "        cv_profit.append(pd.Series(max_profit, name = pairs[pair_num][0].name + '-' + pairs[pair_num][1].name))\n",
    "    return cv_profit, chosen_params"
   ]
  },
  {
   "cell_type": "code",
   "execution_count": 82,
   "metadata": {},
   "outputs": [
    {
     "name": "stderr",
     "output_type": "stream",
     "text": [
      "C:\\Users\\Dell\\anaconda3\\lib\\site-packages\\statsmodels\\tsa\\statespace\\sarimax.py:963: UserWarning: Non-stationary starting autoregressive parameters found. Using zeros as starting parameters.\n",
      "  warn('Non-stationary starting autoregressive parameters'\n"
     ]
    }
   ],
   "source": [
    "allocated_capital = 500000 #Further we will chose 5 stocks\n",
    "raw_cv_profit, raw_chosen_params = find_thresholds(raw_pairs, raw_price_train, raw_price_val, raw_price_val, 150, allocated_capital)"
   ]
  },
  {
   "cell_type": "code",
   "execution_count": 83,
   "metadata": {},
   "outputs": [],
   "source": [
    "def find_best_pairs(cv_profit):\n",
    "    profitable = 0\n",
    "    unprofitable = 0\n",
    "    profitable_pairs = []\n",
    "    for trade in cv_profit:\n",
    "        if trade[0]> 0: \n",
    "            profitable += 1\n",
    "            profitable_pairs.append(trade)\n",
    "        else: \n",
    "            unprofitable += 1\n",
    "    print('There are {} profitable and {} unprofitable pairs'.format(profitable, unprofitable)) \n",
    "    print('These ones are profitable')\n",
    "    value = []\n",
    "    name = []\n",
    "    for trade in profitable_pairs:\n",
    "        value.append(trade[0])\n",
    "        name.append(trade.name)\n",
    "    df_profit_pairs = pd.DataFrame([value, name]).transpose()\n",
    "    df_profit_pairs.columns = ['return', 'pair']\n",
    "    df_profit_pairs.sort_values(by = 'return', inplace = True, ascending = False)\n",
    "    return df_profit_pairs"
   ]
  },
  {
   "cell_type": "code",
   "execution_count": 84,
   "metadata": {},
   "outputs": [
    {
     "name": "stdout",
     "output_type": "stream",
     "text": [
      "There are 3 profitable and 1 unprofitable pairs\n",
      "These ones are profitable\n"
     ]
    },
    {
     "data": {
      "text/html": [
       "<div>\n",
       "<style scoped>\n",
       "    .dataframe tbody tr th:only-of-type {\n",
       "        vertical-align: middle;\n",
       "    }\n",
       "\n",
       "    .dataframe tbody tr th {\n",
       "        vertical-align: top;\n",
       "    }\n",
       "\n",
       "    .dataframe thead th {\n",
       "        text-align: right;\n",
       "    }\n",
       "</style>\n",
       "<table border=\"1\" class=\"dataframe\">\n",
       "  <thead>\n",
       "    <tr style=\"text-align: right;\">\n",
       "      <th></th>\n",
       "      <th>return</th>\n",
       "      <th>pair</th>\n",
       "    </tr>\n",
       "  </thead>\n",
       "  <tbody>\n",
       "    <tr>\n",
       "      <th>2</th>\n",
       "      <td>702.02</td>\n",
       "      <td>PAYX-COST</td>\n",
       "    </tr>\n",
       "    <tr>\n",
       "      <th>1</th>\n",
       "      <td>676.439</td>\n",
       "      <td>MCHP-ZION</td>\n",
       "    </tr>\n",
       "    <tr>\n",
       "      <th>0</th>\n",
       "      <td>150.026</td>\n",
       "      <td>CDNS-CTAS</td>\n",
       "    </tr>\n",
       "  </tbody>\n",
       "</table>\n",
       "</div>"
      ],
      "text/plain": [
       "    return       pair\n",
       "2   702.02  PAYX-COST\n",
       "1  676.439  MCHP-ZION\n",
       "0  150.026  CDNS-CTAS"
      ]
     },
     "execution_count": 84,
     "metadata": {},
     "output_type": "execute_result"
    }
   ],
   "source": [
    "raw_profit_pairs = find_best_pairs(raw_cv_profit)\n",
    "raw_profit_pairs.head(10)"
   ]
  },
  {
   "cell_type": "code",
   "execution_count": 85,
   "metadata": {},
   "outputs": [],
   "source": [
    "def choose_from_best(number_of_pairs, df_profit_pairs, chosen_params):\n",
    "    if number_of_pairs > df_profit_pairs.shape[0]:\n",
    "        print('There are less than {} pairs available'.format(number_of_pairs))\n",
    "        number_of_pairs = df_profit_pairs.shape[0]\n",
    "    chosen_pairs = df_profit_pairs.iloc[:number_of_pairs, :]\n",
    "    print('These pairs chosen are:')\n",
    "    print(chosen_pairs)\n",
    "    \n",
    "    quantiles_chosen = []\n",
    "    for pair in chosen_pairs.pair:\n",
    "        for q in chosen_params:\n",
    "            if q.name == pair:\n",
    "                quantiles_chosen.append(np.array(q))\n",
    "    return chosen_pairs, quantiles_chosen\n",
    "    "
   ]
  },
  {
   "cell_type": "code",
   "execution_count": 86,
   "metadata": {},
   "outputs": [
    {
     "name": "stdout",
     "output_type": "stream",
     "text": [
      "There are less than 5 pairs available\n",
      "These pairs chosen are:\n",
      "    return       pair\n",
      "2   702.02  PAYX-COST\n",
      "1  676.439  MCHP-ZION\n",
      "0  150.026  CDNS-CTAS\n"
     ]
    }
   ],
   "source": [
    "raw_chosen_pairs, raw_quantiles = choose_from_best(5, raw_profit_pairs, raw_chosen_params)"
   ]
  },
  {
   "cell_type": "code",
   "execution_count": 155,
   "metadata": {},
   "outputs": [],
   "source": [
    "capital = 3000000 \n",
    "n_assets = raw_chosen_pairs.shape[0]\n",
    "allocated_capital = 500000#capital / n_assets"
   ]
  },
  {
   "cell_type": "code",
   "execution_count": 156,
   "metadata": {},
   "outputs": [],
   "source": [
    "def real_returns(quantiles_chosen, chosen_pairs, window, allocated_capital, df_pred, df_price):\n",
    "    portfolio_returns = []\n",
    "    portfolio_value = []\n",
    "    for num, pair in enumerate(chosen_pairs.pair):\n",
    "        name1, name2 = pair.split('-')\n",
    "        test_ret, test_port, test_cap = trade(quantiles_chosen[num][0], quantiles_chosen[num][1], window, allocated_capital, df_pred, df_price, name1, name2)\n",
    "        pair_returns = calc_returns(test_port, allocated_capital)\n",
    "        portfolio_returns.append(pd.Series(pair_returns, name = pair, index = close.index[-len(pair_returns):]))\n",
    "        portfolio_value.append(pd.Series(test_port, name = pair, index = close.index[-len(test_port):]))\n",
    "    return portfolio_returns, portfolio_value"
   ]
  },
  {
   "cell_type": "code",
   "execution_count": 157,
   "metadata": {},
   "outputs": [],
   "source": [
    "raw_returns, raw_port_value = real_returns(raw_quantiles, raw_chosen_pairs, 150, allocated_capital, raw_price_test, raw_price_test)"
   ]
  },
  {
   "cell_type": "code",
   "execution_count": 249,
   "metadata": {},
   "outputs": [
    {
     "data": {
      "image/png": "[encoded data removed]",
      "text/plain": [
       "<Figure size 1224x360 with 1 Axes>"
      ]
     },
     "metadata": {
      "needs_background": "light"
     },
     "output_type": "display_data"
    }
   ],
   "source": [
    "plt.figure(figsize = (17,5))\n",
    "for n_ret, ret in enumerate(raw_returns):\n",
    "    plt.plot(ret.index.to_timestamp(), ret.rolling(2).sum(), label = ret.name)\n",
    "    plt.legend();"
   ]
  },
  {
   "cell_type": "markdown",
   "metadata": {},
   "source": [
    "### Backtest"
   ]
  },
  {
   "cell_type": "markdown",
   "metadata": {},
   "source": [
    "#### Sharpe ratio"
   ]
  },
  {
   "cell_type": "code",
   "execution_count": 272,
   "metadata": {},
   "outputs": [
    {
     "name": "stdout",
     "output_type": "stream",
     "text": [
      "[*********************100%***********************]  1 of 1 completed\n",
      "[*********************100%***********************]  1 of 1 completed\n"
     ]
    }
   ],
   "source": [
    "size = len(raw_returns[0])\n",
    "risk_free = yf.download('^IRX', start = \"2020-01-02\", end = \"2020-09-05\")['Adj Close'][-size:]\n",
    "market_idx = yf.download('^GSPC', start = \"2020-01-01\", end = \"2020-09-05\")['Adj Close'].pct_change()[1:][-size:] * 100\n",
    "risk_free.index = risk_free.index.to_period(freq='d')\n",
    "market_idx.index = market_idx.index.to_period(freq='d')"
   ]
  },
  {
   "cell_type": "code",
   "execution_count": 279,
   "metadata": {},
   "outputs": [],
   "source": [
    "def sharpe(port_returns):\n",
    "    interest_adj = (1 + risk_free)**(1/252) - 1 #since we are given annual rates\n",
    "    for p in port_returns:\n",
    "        excess_return = p - interest_adj\n",
    "        sharpe = excess_return.mean() / excess_return.std()\n",
    "        print('Sharpe ratio for {} is {}'.format(p.name, sharpe))\n",
    "    all_returns = sum(port_returns) / len(port_returns)\n",
    "    all_ex_ret = all_returns - interest_adj\n",
    "    sharpe_p = all_ex_ret.mean() / all_ex_ret.std()\n",
    "    print('Sharpe ratio for portfolio is {}'.format(sharpe_p))"
   ]
  },
  {
   "cell_type": "code",
   "execution_count": 278,
   "metadata": {},
   "outputs": [
    {
     "name": "stdout",
     "output_type": "stream",
     "text": [
      "Date\n",
      "2020-08-07    0.000335\n",
      "2020-08-10    0.000335\n",
      "2020-08-11    0.000378\n",
      "2020-08-12    0.000378\n",
      "2020-08-13    0.000342\n",
      "2020-08-14    0.000335\n",
      "2020-08-17    0.000324\n",
      "2020-08-18    0.000378\n",
      "2020-08-19    0.000360\n",
      "2020-08-20    0.000335\n",
      "2020-08-21    0.000335\n",
      "2020-08-24    0.000324\n",
      "2020-08-25    0.000360\n",
      "2020-08-26    0.000353\n",
      "2020-08-27    0.000360\n",
      "2020-08-28    0.000360\n",
      "2020-08-31    0.000360\n",
      "2020-09-01    0.000378\n",
      "2020-09-02    0.000378\n",
      "2020-09-03    0.000378\n",
      "2020-09-04    0.000389\n",
      "Freq: D, Name: Adj Close, dtype: float64\n",
      "Sharpe ratio for PAYX-COST is -0.0792275947959664\n",
      "Sharpe ratio for MCHP-ZION is 1.4021767261722382\n",
      "Sharpe ratio for CDNS-CTAS is 2.190105388287111\n",
      "Sharpe ratio for portfolio is 1.4512232432123229\n"
     ]
    }
   ],
   "source": [
    "sharpe(raw_returns)"
   ]
  },
  {
   "cell_type": "markdown",
   "metadata": {},
   "source": [
    "#### Beta"
   ]
  },
  {
   "cell_type": "code",
   "execution_count": 228,
   "metadata": {},
   "outputs": [],
   "source": [
    "from sklearn.linear_model import LinearRegression\n",
    "def beta(results):\n",
    "    portfolio_beta = 0\n",
    "    for i in results:\n",
    "        capm = LinearRegression(fit_intercept = True).fit(np.array(market_idx).reshape(-1, 1), np.array(i).reshape(-1, 1))\n",
    "        beta = capm.coef_[0][0]\n",
    "        print('beta for {} pair is {}'.format(i.name, beta))\n",
    "        portfolio_beta += beta\n",
    "    portfolio_beta = portfolio_beta / len(results)\n",
    "    print('portfolio beta is {}'.format(portfolio_beta))"
   ]
  },
  {
   "cell_type": "code",
   "execution_count": 229,
   "metadata": {},
   "outputs": [
    {
     "name": "stdout",
     "output_type": "stream",
     "text": [
      "beta for PAYX-COST pair is -0.7195294676106397\n",
      "beta for MCHP-ZION pair is -0.9821601266535785\n",
      "beta for CDNS-CTAS pair is -0.8213433055581352\n",
      "portfolio beta is -0.8410109666074511\n"
     ]
    }
   ],
   "source": [
    "raw_beta = beta(raw_returns)"
   ]
  },
  {
   "cell_type": "markdown",
   "metadata": {},
   "source": [
    "#### Maximum drawdown"
   ]
  },
  {
   "cell_type": "code",
   "execution_count": 236,
   "metadata": {},
   "outputs": [],
   "source": [
    "def max_drawdown(val, allocated_capital):\n",
    "    max_ = max(val)\n",
    "    max_idx = list(val).index(max_)\n",
    "    if max_idx != len(val) -1:\n",
    "        min_ = min(val[max_idx + 1:])\n",
    "    else:\n",
    "        min_ = min(val)\n",
    "    return (max_ - min_) * 100 / allocated_capital"
   ]
  },
  {
   "cell_type": "code",
   "execution_count": 243,
   "metadata": {},
   "outputs": [],
   "source": [
    "def daily_drawdown(port_value, allocated_capital):\n",
    "    sep_drawdowns = []\n",
    "    for port in port_value:\n",
    "        day_drawdown = port.diff().dropna()\n",
    "        day_drawdown = day_drawdown * 100 / allocated_capital\n",
    "        sep_drawdowns.append(day_drawdown)\n",
    "        print('maximum daily drawdown for {} is {}%'.format(day_drawdown.name, round(max(day_drawdown), 2)))\n",
    "    portfolio_drawdown = sum(port_value).diff().dropna() * 100 / (allocated_capital * len(port_value))\n",
    "    print('maximum daily drawdown for portfolio is {}%'.format(round(max(portfolio_drawdown), 2)))\n",
    "    return sep_drawdowns, portfolio_drawdown\n",
    "\n",
    "def week_mdd(port, allocated_capital):\n",
    "    weeks = port.resample('W')\n",
    "    week_mdd = []\n",
    "    for w in weeks:\n",
    "        w_mdd = max_drawdown(w[1], allocated_capital)\n",
    "        week_mdd.append(w_mdd)\n",
    "    return max(week_mdd)\n",
    "\n",
    "\n",
    "def weekly_drawdown(port_value, allocated_capital):\n",
    "    sep_drawdowns = []\n",
    "    for port in port_value:\n",
    "        w_mdd = week_mdd(port, allocated_capital)\n",
    "        sep_drawdowns.append(w_mdd)\n",
    "        print('maximum weekly drawdown for {} is {}%'.format(day_drawdown.name, round(w_mdd, 2)))\n",
    "    all_port = sum(port_value)\n",
    "    portfolio_drawdown  = week_mdd(all_port, allocated_capital * len(port_value))\n",
    "    print('maximum weekly drawdown for portfolio is {}%'.format(round(portfolio_drawdown, 2)))\n",
    "    return sep_drawdowns, portfolio_drawdown"
   ]
  },
  {
   "cell_type": "code",
   "execution_count": 244,
   "metadata": {},
   "outputs": [
    {
     "name": "stdout",
     "output_type": "stream",
     "text": [
      "maximum daily drawdown for PAYX-COST is 2.18%\n",
      "maximum daily drawdown for MCHP-ZION is 4.02%\n",
      "maximum daily drawdown for CDNS-CTAS is 2.33%\n",
      "maximum daily drawdown for portfolio is 2.29%\n",
      "~~~~~~~~~~~~~~~~~~~~~~~~~~~~~~~~~~~~~~~~~~~~~~\n",
      "maximum weekly drawdown for CDNS-CTAS is 3.07%\n",
      "maximum weekly drawdown for CDNS-CTAS is 5.74%\n",
      "maximum weekly drawdown for CDNS-CTAS is 3.85%\n",
      "maximum weekly drawdown for portfolio is 4.22%\n"
     ]
    }
   ],
   "source": [
    "raw_day_mdd_sep, raw_day_mdd_all = daily_drawdown(raw_port_value, allocated_capital)\n",
    "print('~~~~~~~~~~~~~~~~~~~~~~~~~~~~~~~~~~~~~~~~~~~~~~')\n",
    "raw_week_mdd_sep, raw_week_mdd_all = weekly_drawdown(raw_port_value, allocated_capital)"
   ]
  },
  {
   "cell_type": "markdown",
   "metadata": {},
   "source": [
    "#### Accumulated return to maximum drawdown"
   ]
  },
  {
   "cell_type": "code",
   "execution_count": 245,
   "metadata": {},
   "outputs": [],
   "source": [
    "def return_to_drawdown(port_value, port_returns, allocated_capital):\n",
    "    for num, port in enumerate(port_value):\n",
    "        mdd = max_drawdown(port, allocated_capital)\n",
    "        cum_ret = port_returns[num].rolling(2).sum()[-1:]\n",
    "        print('accumulated return to maximum drawdown for {} is {}'.format(port.name, round((cum_ret / mdd)[0],2)))\n",
    "\n",
    "    port_mdd = max_drawdown(sum(raw_port_value), allocated_capital * len(port_value))\n",
    "    port_returns = sum(port_returns) / len(port_returns)\n",
    "    port_cum_ret = port_returns.rolling(2).sum()[-1:] \n",
    "    print('accumulated return to maximum drawdown for portfolio is {}'.format(round((port_cum_ret / port_mdd)[0],2)))"
   ]
  },
  {
   "cell_type": "code",
   "execution_count": 246,
   "metadata": {},
   "outputs": [
    {
     "name": "stdout",
     "output_type": "stream",
     "text": [
      "accumulated return to maximum drawdown for PAYX-COST is 1.88\n",
      "accumulated return to maximum drawdown for MCHP-ZION is 4.54\n",
      "accumulated return to maximum drawdown for CDNS-CTAS is 5.69\n",
      "accumulated return to maximum drawdown for portfolio is 4.24\n"
     ]
    }
   ],
   "source": [
    "return_to_drawdown(raw_port_value, raw_returns, allocated_capital)"
   ]
  },
  {
   "cell_type": "code",
   "execution_count": null,
   "metadata": {},
   "outputs": [],
   "source": []
  },
  {
   "cell_type": "code",
   "execution_count": null,
   "metadata": {},
   "outputs": [],
   "source": []
  },
  {
   "cell_type": "code",
   "execution_count": null,
   "metadata": {},
   "outputs": [],
   "source": []
  }
 ],
 "metadata": {
  "kernelspec": {
   "display_name": "Python 3",
   "language": "python",
   "name": "python3"
  },
  "language_info": {
   "codemirror_mode": {
    "name": "ipython",
    "version": 3
   },
   "file_extension": ".py",
   "mimetype": "text/x-python",
   "name": "python",
   "nbconvert_exporter": "python",
   "pygments_lexer": "ipython3",
   "version": "3.7.6"
  }
 },
 "nbformat": 4,
 "nbformat_minor": 4
}
