{
 "cells": [
  {
   "cell_type": "code",
   "execution_count": 349,
   "metadata": {},
   "outputs": [],
   "source": [
    "import os\n",
    "import pandas as pd\n",
    "import numpy as np\n",
    "from datetime import datetime\n",
    "import investpy\n",
    "import yfinance as yf\n",
    "import matplotlib.pyplot as plt\n",
    "from sklearn.decomposition import PCA\n",
    "from pandas.plotting import register_matplotlib_converters\n",
    "import warnings\n",
    "warnings.filterwarnings(\"ignore\")\n",
    "register_matplotlib_converters()"
   ]
  },
  {
   "cell_type": "markdown",
   "metadata": {},
   "source": [
    "### Download stock data\n",
    "We use data from Yahoo finance for the US stock market."
   ]
  },
  {
   "cell_type": "code",
   "execution_count": 2,
   "metadata": {},
   "outputs": [
    {
     "name": "stdout",
     "output_type": "stream",
     "text": [
      "There are 4582 stocks\n",
      "out of which 50 are chosen\n"
     ]
    }
   ],
   "source": [
    "all_stocks = investpy.get_stocks_list(country='United States')\n",
    "#all_stocks = investpy.etfs.get_etfs_list('united states')\n",
    "print('There are {} stocks'.format(str(len(all_stocks))))\n",
    "stocks_selected = all_stocks[:50]\n",
    "print('out of which '+  str(len(stocks_selected)) + ' are chosen')"
   ]
  },
  {
   "cell_type": "code",
   "execution_count": 3,
   "metadata": {},
   "outputs": [
    {
     "name": "stdout",
     "output_type": "stream",
     "text": [
      "[*********************100%***********************]  50 of 50 completed\n"
     ]
    }
   ],
   "source": [
    "#stocks_selected = ' '.join(stocks_selected)\n",
    "data = yf.download(stocks_selected, start = \"2010-01-02\", end = \"2020-09-05\")"
   ]
  },
  {
   "cell_type": "markdown",
   "metadata": {},
   "source": [
    "In the paper, authors drop all assets that contain at least 1 non-traded day (nan). But if we do this here, no stocks would be left at all, so we interpolate missing values"
   ]
  },
  {
   "cell_type": "code",
   "execution_count": 4,
   "metadata": {},
   "outputs": [
    {
     "name": "stdout",
     "output_type": "stream",
     "text": [
      "44 stocks left\n"
     ]
    }
   ],
   "source": [
    "close = data[['Adj Close']].dropna(axis = 1, how = 'all', thresh = data.shape[0] * 0.95) #drop stock if 5% of days are absent\n",
    "close = close.fillna(0)\n",
    "close.columns = close.columns.droplevel(0)\n",
    "close.index = pd.to_datetime(close.index)\n",
    "close.index = close.index.to_period(freq='d')\n",
    "print(str(close.shape[1]) + ' stocks left')"
   ]
  },
  {
   "cell_type": "code",
   "execution_count": 5,
   "metadata": {},
   "outputs": [
    {
     "data": {
      "text/html": [
       "<div>\n",
       "<style scoped>\n",
       "    .dataframe tbody tr th:only-of-type {\n",
       "        vertical-align: middle;\n",
       "    }\n",
       "\n",
       "    .dataframe tbody tr th {\n",
       "        vertical-align: top;\n",
       "    }\n",
       "\n",
       "    .dataframe thead th {\n",
       "        text-align: right;\n",
       "    }\n",
       "</style>\n",
       "<table border=\"1\" class=\"dataframe\">\n",
       "  <thead>\n",
       "    <tr style=\"text-align: right;\">\n",
       "      <th></th>\n",
       "      <th>AA</th>\n",
       "      <th>ADBE</th>\n",
       "      <th>ADSK</th>\n",
       "      <th>BA</th>\n",
       "      <th>BAC</th>\n",
       "      <th>C</th>\n",
       "      <th>CAKFF</th>\n",
       "      <th>CAT</th>\n",
       "      <th>CSCO</th>\n",
       "      <th>CTAS</th>\n",
       "      <th>...</th>\n",
       "      <th>MRK</th>\n",
       "      <th>MSFT</th>\n",
       "      <th>MSI</th>\n",
       "      <th>ODP</th>\n",
       "      <th>ORCL</th>\n",
       "      <th>PDLI</th>\n",
       "      <th>SHLDQ</th>\n",
       "      <th>T</th>\n",
       "      <th>TEVA</th>\n",
       "      <th>VRTX</th>\n",
       "    </tr>\n",
       "    <tr>\n",
       "      <th>Date</th>\n",
       "      <th></th>\n",
       "      <th></th>\n",
       "      <th></th>\n",
       "      <th></th>\n",
       "      <th></th>\n",
       "      <th></th>\n",
       "      <th></th>\n",
       "      <th></th>\n",
       "      <th></th>\n",
       "      <th></th>\n",
       "      <th></th>\n",
       "      <th></th>\n",
       "      <th></th>\n",
       "      <th></th>\n",
       "      <th></th>\n",
       "      <th></th>\n",
       "      <th></th>\n",
       "      <th></th>\n",
       "      <th></th>\n",
       "      <th></th>\n",
       "      <th></th>\n",
       "    </tr>\n",
       "  </thead>\n",
       "  <tbody>\n",
       "    <tr>\n",
       "      <th>2010-01-04</th>\n",
       "      <td>37.018944</td>\n",
       "      <td>37.090000</td>\n",
       "      <td>25.670000</td>\n",
       "      <td>43.441975</td>\n",
       "      <td>13.816905</td>\n",
       "      <td>30.533976</td>\n",
       "      <td>19.843622</td>\n",
       "      <td>42.634403</td>\n",
       "      <td>18.785395</td>\n",
       "      <td>22.366045</td>\n",
       "      <td>...</td>\n",
       "      <td>25.517866</td>\n",
       "      <td>24.168472</td>\n",
       "      <td>26.879293</td>\n",
       "      <td>57.066406</td>\n",
       "      <td>21.604193</td>\n",
       "      <td>3.653801</td>\n",
       "      <td>62.962120</td>\n",
       "      <td>15.742277</td>\n",
       "      <td>47.299187</td>\n",
       "      <td>44.240002</td>\n",
       "    </tr>\n",
       "    <tr>\n",
       "      <th>2010-01-05</th>\n",
       "      <td>35.862801</td>\n",
       "      <td>37.700001</td>\n",
       "      <td>25.280001</td>\n",
       "      <td>44.864773</td>\n",
       "      <td>14.266021</td>\n",
       "      <td>31.701447</td>\n",
       "      <td>19.843622</td>\n",
       "      <td>43.144135</td>\n",
       "      <td>18.701702</td>\n",
       "      <td>22.332144</td>\n",
       "      <td>...</td>\n",
       "      <td>25.621284</td>\n",
       "      <td>24.176279</td>\n",
       "      <td>26.508316</td>\n",
       "      <td>59.809143</td>\n",
       "      <td>21.578108</td>\n",
       "      <td>3.648489</td>\n",
       "      <td>65.815117</td>\n",
       "      <td>15.665167</td>\n",
       "      <td>46.629093</td>\n",
       "      <td>42.779999</td>\n",
       "    </tr>\n",
       "    <tr>\n",
       "      <th>2010-01-06</th>\n",
       "      <td>37.730419</td>\n",
       "      <td>37.619999</td>\n",
       "      <td>25.340000</td>\n",
       "      <td>46.225727</td>\n",
       "      <td>14.433337</td>\n",
       "      <td>32.689320</td>\n",
       "      <td>19.843622</td>\n",
       "      <td>43.275200</td>\n",
       "      <td>18.579962</td>\n",
       "      <td>22.391468</td>\n",
       "      <td>...</td>\n",
       "      <td>25.966017</td>\n",
       "      <td>24.027906</td>\n",
       "      <td>26.879293</td>\n",
       "      <td>58.482006</td>\n",
       "      <td>21.265123</td>\n",
       "      <td>3.606004</td>\n",
       "      <td>67.075569</td>\n",
       "      <td>15.435946</td>\n",
       "      <td>46.743496</td>\n",
       "      <td>42.029999</td>\n",
       "    </tr>\n",
       "  </tbody>\n",
       "</table>\n",
       "<p>3 rows × 44 columns</p>\n",
       "</div>"
      ],
      "text/plain": [
       "                   AA       ADBE       ADSK         BA        BAC          C  \\\n",
       "Date                                                                           \n",
       "2010-01-04  37.018944  37.090000  25.670000  43.441975  13.816905  30.533976   \n",
       "2010-01-05  35.862801  37.700001  25.280001  44.864773  14.266021  31.701447   \n",
       "2010-01-06  37.730419  37.619999  25.340000  46.225727  14.433337  32.689320   \n",
       "\n",
       "                CAKFF        CAT       CSCO       CTAS  ...        MRK  \\\n",
       "Date                                                    ...              \n",
       "2010-01-04  19.843622  42.634403  18.785395  22.366045  ...  25.517866   \n",
       "2010-01-05  19.843622  43.144135  18.701702  22.332144  ...  25.621284   \n",
       "2010-01-06  19.843622  43.275200  18.579962  22.391468  ...  25.966017   \n",
       "\n",
       "                 MSFT        MSI        ODP       ORCL      PDLI      SHLDQ  \\\n",
       "Date                                                                          \n",
       "2010-01-04  24.168472  26.879293  57.066406  21.604193  3.653801  62.962120   \n",
       "2010-01-05  24.176279  26.508316  59.809143  21.578108  3.648489  65.815117   \n",
       "2010-01-06  24.027906  26.879293  58.482006  21.265123  3.606004  67.075569   \n",
       "\n",
       "                    T       TEVA       VRTX  \n",
       "Date                                         \n",
       "2010-01-04  15.742277  47.299187  44.240002  \n",
       "2010-01-05  15.665167  46.629093  42.779999  \n",
       "2010-01-06  15.435946  46.743496  42.029999  \n",
       "\n",
       "[3 rows x 44 columns]"
      ]
     },
     "execution_count": 5,
     "metadata": {},
     "output_type": "execute_result"
    }
   ],
   "source": [
    "close.head(3)"
   ]
  },
  {
   "cell_type": "code",
   "execution_count": 6,
   "metadata": {},
   "outputs": [
    {
     "data": {
      "text/html": [
       "<div>\n",
       "<style scoped>\n",
       "    .dataframe tbody tr th:only-of-type {\n",
       "        vertical-align: middle;\n",
       "    }\n",
       "\n",
       "    .dataframe tbody tr th {\n",
       "        vertical-align: top;\n",
       "    }\n",
       "\n",
       "    .dataframe thead th {\n",
       "        text-align: right;\n",
       "    }\n",
       "</style>\n",
       "<table border=\"1\" class=\"dataframe\">\n",
       "  <thead>\n",
       "    <tr style=\"text-align: right;\">\n",
       "      <th></th>\n",
       "      <th>AA</th>\n",
       "      <th>ADBE</th>\n",
       "      <th>ADSK</th>\n",
       "      <th>BA</th>\n",
       "      <th>BAC</th>\n",
       "      <th>C</th>\n",
       "      <th>CAKFF</th>\n",
       "      <th>CAT</th>\n",
       "      <th>CSCO</th>\n",
       "      <th>CTAS</th>\n",
       "      <th>...</th>\n",
       "      <th>MRK</th>\n",
       "      <th>MSFT</th>\n",
       "      <th>MSI</th>\n",
       "      <th>ODP</th>\n",
       "      <th>ORCL</th>\n",
       "      <th>PDLI</th>\n",
       "      <th>SHLDQ</th>\n",
       "      <th>T</th>\n",
       "      <th>TEVA</th>\n",
       "      <th>VRTX</th>\n",
       "    </tr>\n",
       "    <tr>\n",
       "      <th>Date</th>\n",
       "      <th></th>\n",
       "      <th></th>\n",
       "      <th></th>\n",
       "      <th></th>\n",
       "      <th></th>\n",
       "      <th></th>\n",
       "      <th></th>\n",
       "      <th></th>\n",
       "      <th></th>\n",
       "      <th></th>\n",
       "      <th></th>\n",
       "      <th></th>\n",
       "      <th></th>\n",
       "      <th></th>\n",
       "      <th></th>\n",
       "      <th></th>\n",
       "      <th></th>\n",
       "      <th></th>\n",
       "      <th></th>\n",
       "      <th></th>\n",
       "      <th></th>\n",
       "    </tr>\n",
       "  </thead>\n",
       "  <tbody>\n",
       "    <tr>\n",
       "      <th>2010-01-05</th>\n",
       "      <td>-0.031231</td>\n",
       "      <td>0.016446</td>\n",
       "      <td>-0.015193</td>\n",
       "      <td>0.032752</td>\n",
       "      <td>0.032505</td>\n",
       "      <td>0.038235</td>\n",
       "      <td>0.0</td>\n",
       "      <td>0.011956</td>\n",
       "      <td>-0.004455</td>\n",
       "      <td>-0.001516</td>\n",
       "      <td>...</td>\n",
       "      <td>0.004053</td>\n",
       "      <td>0.000323</td>\n",
       "      <td>-0.013802</td>\n",
       "      <td>0.048062</td>\n",
       "      <td>-0.001207</td>\n",
       "      <td>-0.001454</td>\n",
       "      <td>0.045313</td>\n",
       "      <td>-0.004898</td>\n",
       "      <td>-0.014167</td>\n",
       "      <td>-0.033002</td>\n",
       "    </tr>\n",
       "    <tr>\n",
       "      <th>2010-01-06</th>\n",
       "      <td>0.052077</td>\n",
       "      <td>-0.002122</td>\n",
       "      <td>0.002373</td>\n",
       "      <td>0.030335</td>\n",
       "      <td>0.011728</td>\n",
       "      <td>0.031162</td>\n",
       "      <td>0.0</td>\n",
       "      <td>0.003038</td>\n",
       "      <td>-0.006510</td>\n",
       "      <td>0.002656</td>\n",
       "      <td>...</td>\n",
       "      <td>0.013455</td>\n",
       "      <td>-0.006137</td>\n",
       "      <td>0.013995</td>\n",
       "      <td>-0.022190</td>\n",
       "      <td>-0.014505</td>\n",
       "      <td>-0.011645</td>\n",
       "      <td>0.019151</td>\n",
       "      <td>-0.014633</td>\n",
       "      <td>0.002453</td>\n",
       "      <td>-0.017532</td>\n",
       "    </tr>\n",
       "    <tr>\n",
       "      <th>2010-01-07</th>\n",
       "      <td>-0.021214</td>\n",
       "      <td>-0.019405</td>\n",
       "      <td>0.005525</td>\n",
       "      <td>0.040482</td>\n",
       "      <td>0.032947</td>\n",
       "      <td>0.002747</td>\n",
       "      <td>0.0</td>\n",
       "      <td>0.004038</td>\n",
       "      <td>0.004505</td>\n",
       "      <td>0.008706</td>\n",
       "      <td>...</td>\n",
       "      <td>0.001594</td>\n",
       "      <td>-0.010400</td>\n",
       "      <td>0.020075</td>\n",
       "      <td>0.055976</td>\n",
       "      <td>-0.003271</td>\n",
       "      <td>0.002945</td>\n",
       "      <td>0.116012</td>\n",
       "      <td>-0.011228</td>\n",
       "      <td>-0.006294</td>\n",
       "      <td>-0.012610</td>\n",
       "    </tr>\n",
       "  </tbody>\n",
       "</table>\n",
       "<p>3 rows × 44 columns</p>\n",
       "</div>"
      ],
      "text/plain": [
       "                  AA      ADBE      ADSK        BA       BAC         C  CAKFF  \\\n",
       "Date                                                                            \n",
       "2010-01-05 -0.031231  0.016446 -0.015193  0.032752  0.032505  0.038235    0.0   \n",
       "2010-01-06  0.052077 -0.002122  0.002373  0.030335  0.011728  0.031162    0.0   \n",
       "2010-01-07 -0.021214 -0.019405  0.005525  0.040482  0.032947  0.002747    0.0   \n",
       "\n",
       "                 CAT      CSCO      CTAS  ...       MRK      MSFT       MSI  \\\n",
       "Date                                      ...                                 \n",
       "2010-01-05  0.011956 -0.004455 -0.001516  ...  0.004053  0.000323 -0.013802   \n",
       "2010-01-06  0.003038 -0.006510  0.002656  ...  0.013455 -0.006137  0.013995   \n",
       "2010-01-07  0.004038  0.004505  0.008706  ...  0.001594 -0.010400  0.020075   \n",
       "\n",
       "                 ODP      ORCL      PDLI     SHLDQ         T      TEVA  \\\n",
       "Date                                                                     \n",
       "2010-01-05  0.048062 -0.001207 -0.001454  0.045313 -0.004898 -0.014167   \n",
       "2010-01-06 -0.022190 -0.014505 -0.011645  0.019151 -0.014633  0.002453   \n",
       "2010-01-07  0.055976 -0.003271  0.002945  0.116012 -0.011228 -0.006294   \n",
       "\n",
       "                VRTX  \n",
       "Date                  \n",
       "2010-01-05 -0.033002  \n",
       "2010-01-06 -0.017532  \n",
       "2010-01-07 -0.012610  \n",
       "\n",
       "[3 rows x 44 columns]"
      ]
     },
     "execution_count": 6,
     "metadata": {},
     "output_type": "execute_result"
    }
   ],
   "source": [
    "returns = close.pct_change().iloc[1:, :]#fill_method='ffill').iloc[1:, :]\n",
    "returns = returns.replace([np.inf, -np.inf], np.nan)\n",
    "returns = returns.dropna(axis = 0)\n",
    "returns = returns.fillna(0)\n",
    "returns.head(3)"
   ]
  },
  {
   "cell_type": "markdown",
   "metadata": {},
   "source": [
    "### Filter with AR(1)-TGARCH(1,1,1)"
   ]
  },
  {
   "cell_type": "code",
   "execution_count": 7,
   "metadata": {},
   "outputs": [],
   "source": [
    "import statsmodels.api as sm\n",
    "from statsmodels.tsa.arima.model import ARIMA\n",
    "from arch import arch_model \n",
    "from arch.univariate import ARX, GARCH, StudentsT"
   ]
  },
  {
   "cell_type": "code",
   "execution_count": 8,
   "metadata": {},
   "outputs": [],
   "source": [
    "filt_ret = returns.loc[:'2019-01-01', :]\n",
    "price_train = close.loc[:'2019-01-01', :]"
   ]
  },
  {
   "cell_type": "code",
   "execution_count": 9,
   "metadata": {},
   "outputs": [],
   "source": [
    "def filter_train_set(filt_ret, window):\n",
    "    \n",
    "    all_ret = np.full((filt_ret.shape[0] - 1, filt_ret.shape[1]), 0, dtype = 'float64')\n",
    "    for col in range(filt_ret.shape[1]):\n",
    "        start = 0\n",
    "        end = start + window\n",
    "        while end < all_ret.shape[0]-1:\n",
    "        #mod = HARX(close.iloc[:599], lags = [1, 2], rescale = False)\n",
    "        #mod.volatility = GARCH(p=1, o=1, q=1)\n",
    "        #mod.distribution = StudentsT()\n",
    "            try:\n",
    "                order = 10 / filt_ret.iloc[start:end, col].std()\n",
    "            except ZeroDivisionError:\n",
    "                order = 10\n",
    "            mod = arch_model(order * filt_ret.iloc[start:end, col],\n",
    "                            mean='ARX', lags=1, # mean = Constant, ARX, HARX + the number of lags\n",
    "                            vol='Garch', p=1, o=1, q=1, # vol = Garch, EGARCH, HARCH + the number of lags\n",
    "                            dist='skewstudent')#, rescale = False)#    StudentsT') \n",
    "            try:\n",
    "                mod_fit = mod.fit(options = {'maxiter':500}, disp='off', show_warning = False)\n",
    "                all_ret[start:end -1, col] = mod_fit.resid[1:] / mod_fit.conditional_volatility[1:] \n",
    "            except: #can be that in this range all values are zero, which throws a mistake\n",
    "                all_ret[start:end -1, col] = filt_ret.iloc[start:end - 1, col]\n",
    "            start = end \n",
    "            end += window\n",
    "\n",
    "        end -= 100   \n",
    "        #print(filt_ret.iloc[end: , col])\n",
    "        try:\n",
    "            order = 10 / filt_ret.iloc[end:, col].std()\n",
    "        except ZeroDivisionError:\n",
    "            order = 10\n",
    "        mod = arch_model(order * filt_ret.iloc[end: , col],\n",
    "                        mean='ARX', lags=1, # mean = Constant, ARX, HARX + the number of lags\n",
    "                        vol='Garch', p=1, o=1, q=1, # vol = Garch, EGARCH, HARCH + the number of lags\n",
    "                        dist='skewstudent')#, rescale = False)#    StudentsT') \n",
    "        try:\n",
    "            mod_fit = mod.fit(options = {'maxiter':500}, disp='off', show_warning = False)\n",
    "            all_ret[end:, col] = mod_fit.resid[1:] / mod_fit.conditional_volatility[1:] \n",
    "        except: #can be that in this range all values are zero, which throws a mistake\n",
    "            all_ret[end :, col] = filt_ret.iloc[end: - 1, col]\n",
    "    filt_ret = pd.DataFrame(all_ret, index = filt_ret.index[1:], columns = filt_ret.columns, dtype = 'float64')\n",
    "    return filt_ret"
   ]
  },
  {
   "cell_type": "code",
   "execution_count": 10,
   "metadata": {},
   "outputs": [
    {
     "name": "stderr",
     "output_type": "stream",
     "text": [
      "C:\\Users\\Dell\\anaconda3\\lib\\site-packages\\arch\\univariate\\mean.py:559: RuntimeWarning: divide by zero encountered in double_scalars\n",
      "  return 1.0 - e.T.dot(e) / y.dot(y)\n",
      "C:\\Users\\Dell\\anaconda3\\lib\\site-packages\\arch\\univariate\\mean.py:559: RuntimeWarning: divide by zero encountered in double_scalars\n",
      "  return 1.0 - e.T.dot(e) / y.dot(y)\n",
      "C:\\Users\\Dell\\anaconda3\\lib\\site-packages\\arch\\univariate\\mean.py:559: RuntimeWarning: divide by zero encountered in double_scalars\n",
      "  return 1.0 - e.T.dot(e) / y.dot(y)\n",
      "C:\\Users\\Dell\\anaconda3\\lib\\site-packages\\arch\\univariate\\mean.py:559: RuntimeWarning: divide by zero encountered in double_scalars\n",
      "  return 1.0 - e.T.dot(e) / y.dot(y)\n"
     ]
    }
   ],
   "source": [
    "filt_ret = filter_train_set(filt_ret, 100)\n",
    "price_train = filter_train_set(price_train, 100)"
   ]
  },
  {
   "cell_type": "code",
   "execution_count": null,
   "metadata": {},
   "outputs": [],
   "source": []
  },
  {
   "cell_type": "code",
   "execution_count": 11,
   "metadata": {},
   "outputs": [
    {
     "ename": "NameError",
     "evalue": "name 'all_ret' is not defined",
     "output_type": "error",
     "traceback": [
      "\u001b[1;31m---------------------------------------------------------------------------\u001b[0m",
      "\u001b[1;31mNameError\u001b[0m                                 Traceback (most recent call last)",
      "\u001b[1;32m<ipython-input-11-122161405a49>\u001b[0m in \u001b[0;36m<module>\u001b[1;34m\u001b[0m\n\u001b[0;32m      2\u001b[0m \u001b[0mplt\u001b[0m\u001b[1;33m.\u001b[0m\u001b[0mplot\u001b[0m\u001b[1;33m(\u001b[0m\u001b[0mreturns\u001b[0m\u001b[1;33m.\u001b[0m\u001b[0mindex\u001b[0m\u001b[1;33m.\u001b[0m\u001b[0mto_timestamp\u001b[0m\u001b[1;33m(\u001b[0m\u001b[1;33m)\u001b[0m\u001b[1;33m[\u001b[0m\u001b[1;36m1\u001b[0m\u001b[1;33m:\u001b[0m\u001b[1;36m25\u001b[0m\u001b[1;33m]\u001b[0m\u001b[1;33m,\u001b[0m \u001b[0mreturns\u001b[0m\u001b[1;33m.\u001b[0m\u001b[0miloc\u001b[0m\u001b[1;33m[\u001b[0m\u001b[1;36m1\u001b[0m\u001b[1;33m:\u001b[0m\u001b[1;36m25\u001b[0m\u001b[1;33m,\u001b[0m \u001b[1;36m0\u001b[0m\u001b[1;33m]\u001b[0m\u001b[1;33m,\u001b[0m \u001b[0mlabel\u001b[0m \u001b[1;33m=\u001b[0m \u001b[1;34m'non-filtered returns'\u001b[0m\u001b[1;33m)\u001b[0m\u001b[1;33m;\u001b[0m\u001b[1;33m\u001b[0m\u001b[1;33m\u001b[0m\u001b[0m\n\u001b[0;32m      3\u001b[0m \u001b[0mplt\u001b[0m\u001b[1;33m.\u001b[0m\u001b[0mfigure\u001b[0m\u001b[1;33m(\u001b[0m\u001b[0mfigsize\u001b[0m \u001b[1;33m=\u001b[0m \u001b[1;33m(\u001b[0m\u001b[1;36m15\u001b[0m\u001b[1;33m,\u001b[0m \u001b[1;36m2\u001b[0m\u001b[1;33m)\u001b[0m\u001b[1;33m)\u001b[0m\u001b[1;33m\u001b[0m\u001b[1;33m\u001b[0m\u001b[0m\n\u001b[1;32m----> 4\u001b[1;33m \u001b[0mplt\u001b[0m\u001b[1;33m.\u001b[0m\u001b[0mplot\u001b[0m\u001b[1;33m(\u001b[0m\u001b[0mreturns\u001b[0m\u001b[1;33m.\u001b[0m\u001b[0mindex\u001b[0m\u001b[1;33m.\u001b[0m\u001b[0mto_timestamp\u001b[0m\u001b[1;33m(\u001b[0m\u001b[1;33m)\u001b[0m\u001b[1;33m[\u001b[0m\u001b[1;36m1\u001b[0m\u001b[1;33m:\u001b[0m\u001b[1;36m25\u001b[0m\u001b[1;33m]\u001b[0m\u001b[1;33m,\u001b[0m \u001b[0mall_ret\u001b[0m\u001b[1;33m.\u001b[0m\u001b[0miloc\u001b[0m\u001b[1;33m[\u001b[0m\u001b[1;33m:\u001b[0m\u001b[1;36m24\u001b[0m\u001b[1;33m,\u001b[0m \u001b[1;36m0\u001b[0m\u001b[1;33m]\u001b[0m\u001b[1;33m,\u001b[0m \u001b[0mlabel\u001b[0m \u001b[1;33m=\u001b[0m \u001b[1;34m'filtered returns devided by 100'\u001b[0m\u001b[1;33m)\u001b[0m\u001b[1;33m;\u001b[0m\u001b[1;33m\u001b[0m\u001b[1;33m\u001b[0m\u001b[0m\n\u001b[0m\u001b[0;32m      5\u001b[0m \u001b[0mplt\u001b[0m\u001b[1;33m.\u001b[0m\u001b[0mtitle\u001b[0m\u001b[1;33m(\u001b[0m\u001b[1;34m'Filtered and non-filtered returns for {}'\u001b[0m\u001b[1;33m.\u001b[0m\u001b[0mformat\u001b[0m\u001b[1;33m(\u001b[0m\u001b[0mall_ret\u001b[0m\u001b[1;33m.\u001b[0m\u001b[0mcolumns\u001b[0m\u001b[1;33m[\u001b[0m\u001b[1;36m0\u001b[0m\u001b[1;33m]\u001b[0m\u001b[1;33m)\u001b[0m\u001b[1;33m)\u001b[0m\u001b[1;33m\u001b[0m\u001b[1;33m\u001b[0m\u001b[0m\n\u001b[0;32m      6\u001b[0m \u001b[0mplt\u001b[0m\u001b[1;33m.\u001b[0m\u001b[0mlegend\u001b[0m\u001b[1;33m(\u001b[0m\u001b[1;33m)\u001b[0m\u001b[1;33m\u001b[0m\u001b[1;33m\u001b[0m\u001b[0m\n",
      "\u001b[1;31mNameError\u001b[0m: name 'all_ret' is not defined"
     ]
    },
    {
     "data": {
      "image/png": "[encoded data removed]",
      "text/plain": [
       "<Figure size 1080x144 with 1 Axes>"
      ]
     },
     "metadata": {
      "needs_background": "light"
     },
     "output_type": "display_data"
    },
    {
     "data": {
      "text/plain": [
       "<Figure size 1080x144 with 0 Axes>"
      ]
     },
     "metadata": {},
     "output_type": "display_data"
    }
   ],
   "source": [
    "plt.figure(figsize = (15, 2))\n",
    "plt.plot(returns.index.to_timestamp()[1:25], returns.iloc[1:25, 0], label = 'non-filtered returns');\n",
    "plt.figure(figsize = (15, 2))\n",
    "plt.plot(returns.index.to_timestamp()[1:25], all_ret.iloc[:24, 0], label = 'filtered returns devided by 100');\n",
    "plt.title('Filtered and non-filtered returns for {}'.format(all_ret.columns[0]))\n",
    "plt.legend()\n",
    "plt.xlabel('date')\n",
    "plt.ylabel('percentage returns');"
   ]
  },
  {
   "cell_type": "code",
   "execution_count": null,
   "metadata": {},
   "outputs": [],
   "source": [
    "plt.figure(figsize = (15,4))\n",
    "plt.plot(returns.index.to_timestamp()[1:51], close.iloc[1:51, 0], label = 'non-filtered price');\n",
    "plt.plot(returns.index.to_timestamp()[1:51], all_res.iloc[:50, 0] + 37, label = 'filtered price + 37');\n",
    "plt.title('Filtered and non-filtered prices for {}'.format(all_res.columns[0]))\n",
    "plt.legend()\n",
    "plt.xlabel('date')\n",
    "plt.ylabel('price');"
   ]
  },
  {
   "cell_type": "code",
   "execution_count": 12,
   "metadata": {},
   "outputs": [],
   "source": [
    "#split in training, validation and test sets\n",
    "#THESE ARE FILTERED PRICES\n",
    "#price_val = all_res.loc['2019-01-01':'2020-01-01']\n",
    "#price_test = all_res.loc['2020-01-01':]\n",
    "#THESE ARE NON-FILTERED PRICES\n",
    "raw_price_train = close.loc[:'2019-01-01', :]\n",
    "raw_price_val = close.loc['2019-01-01':'2020-01-01']\n",
    "raw_price_test = close.loc['2020-01-01':]\n",
    "# returns filtered\n",
    "#filt_ret = all_ret.loc[:'2019-01-01', :]"
   ]
  },
  {
   "cell_type": "code",
   "execution_count": null,
   "metadata": {},
   "outputs": [],
   "source": []
  },
  {
   "cell_type": "markdown",
   "metadata": {},
   "source": [
    "### PCA dimensionality reduction and OPTICS clustering\n",
    "   The authors use 15 principal components in PCA but we use a larger number due to the fact that out time series is longer (authors had 8 years of training data) and it could be we cannot describe it well in 15 components. Then, these components serve as input to OPTICS - density based clustering method. To choose among models, we use silhouette score. It is in range between -1 and 1, the higher it is the better."
   ]
  },
  {
   "cell_type": "code",
   "execution_count": 13,
   "metadata": {},
   "outputs": [],
   "source": [
    "def find_max(silhouette):\n",
    "    all_vals = []\n",
    "    for val in silhouette.values():\n",
    "        all_vals.extend(val)\n",
    "    return all_vals\n",
    "\n",
    "def best_params(silhouette):\n",
    "    all_vals = find_max(silhouette)\n",
    "    max_val = max(all_vals)\n",
    "    for key, val in silhouette.items():\n",
    "        if max_val in val:\n",
    "            return key, val.index(max_val) + 2, max_val"
   ]
  },
  {
   "cell_type": "code",
   "execution_count": 14,
   "metadata": {},
   "outputs": [
    {
     "name": "stdout",
     "output_type": "stream",
     "text": [
      "best silhouette_score is 0.4288618256424412 at 4 min_samples and 2 components\n"
     ]
    }
   ],
   "source": [
    "from sklearn.cluster import OPTICS\n",
    "from sklearn.metrics import silhouette_score\n",
    "\n",
    "silhouette = dict()\n",
    "for comp in range(2, 16):\n",
    "    partial_silh = list()\n",
    "    pca = PCA(n_components = comp, svd_solver = 'auto')\n",
    "    pca_fit = pca.fit_transform(filt_ret.transpose())\n",
    "    for min_sampl in range(2, 7):\n",
    "        try:\n",
    "            clusters = OPTICS(min_samples = min_sampl).fit(pca_fit) #metric = 'euclidean' min_cluster_size = 5\n",
    "            partial_silh.append(silhouette_score(pca_fit, clusters.labels_))\n",
    "        except: pass\n",
    "    silhouette[comp] = partial_silh\n",
    "    \n",
    "best_comp, best_min_smpl, best_score = best_params(silhouette)\n",
    "print('best silhouette_score is ' + str(best_score) + ' at ' + str(best_min_smpl) + ' min_samples and ' +\n",
    "      str(best_comp) + ' components')"
   ]
  },
  {
   "cell_type": "code",
   "execution_count": 15,
   "metadata": {},
   "outputs": [],
   "source": [
    "pca = PCA(n_components = best_comp, svd_solver = 'auto')\n",
    "pca_fit = pca.fit_transform(filt_ret.transpose())\n",
    "clusters = OPTICS(min_samples = best_min_smpl).fit(pca_fit)"
   ]
  },
  {
   "cell_type": "code",
   "execution_count": null,
   "metadata": {},
   "outputs": [],
   "source": []
  },
  {
   "cell_type": "code",
   "execution_count": 16,
   "metadata": {},
   "outputs": [
    {
     "name": "stdout",
     "output_type": "stream",
     "text": [
      "Number of clusters is 5\n"
     ]
    },
    {
     "data": {
      "image/png": "[encoded data removed]",
      "text/plain": [
       "<Figure size 1296x1296 with 1 Axes>"
      ]
     },
     "metadata": {
      "needs_background": "light"
     },
     "output_type": "display_data"
    }
   ],
   "source": [
    "from sklearn.manifold import TSNE\n",
    "import matplotlib.colors as mcolors\n",
    "\n",
    "tsne = TSNE(n_components = 2, perplexity = 6).fit_transform(pca_fit)\n",
    "\n",
    "print('Number of clusters is ' + str(clusters.labels_.max()-clusters.labels_.min()))\n",
    "colors = list(mcolors.CSS4_COLORS.keys())[10:]\n",
    "plt.figure(figsize=(18,18))\n",
    "for klass in range(clusters.labels_.min(), clusters.labels_.max()):\n",
    "    plt.scatter(tsne[clusters.labels_ == klass][:, 0], tsne[clusters.labels_ == klass][:, 1],\n",
    "               c = colors[klass], label = 'class {}'.format(str(klass)))\n",
    "for i, txt in enumerate(filt_ret.columns):\n",
    "    plt.annotate(txt, (tsne[i, 0], tsne[i, 1]))\n",
    "#plt.legend()\n",
    "plt.title('Visualisation of clusters');"
   ]
  },
  {
   "cell_type": "code",
   "execution_count": null,
   "metadata": {},
   "outputs": [],
   "source": []
  },
  {
   "cell_type": "code",
   "execution_count": 17,
   "metadata": {},
   "outputs": [],
   "source": [
    "#do not include class -1 since these are outliers/points without claster\n",
    "def make_classes(df):\n",
    "    classes = dict()\n",
    "    for cl in range(0, clusters.labels_.max() + 1):\n",
    "        klass = df.transpose()[clusters.labels_ == cl]\n",
    "        classes[cl] = klass\n",
    "    return classes"
   ]
  },
  {
   "cell_type": "code",
   "execution_count": 18,
   "metadata": {},
   "outputs": [],
   "source": [
    "raw_classes = make_classes(raw_price_train)"
   ]
  },
  {
   "cell_type": "markdown",
   "metadata": {},
   "source": [
    "### Select pairs\n",
    "Next, we select pairs based on the following criteria:\n",
    "- cointegration\n",
    "- Hurst exponent < 0.5\n",
    "- half-life of mean reversion\n",
    "- average number of crossings of spread mean per year"
   ]
  },
  {
   "cell_type": "code",
   "execution_count": 19,
   "metadata": {},
   "outputs": [],
   "source": [
    "from statsmodels.tsa.stattools import coint\n",
    "from hurst import compute_Hc\n",
    "from scipy.ndimage.interpolation import shift\n",
    "from sklearn import linear_model"
   ]
  },
  {
   "cell_type": "code",
   "execution_count": 20,
   "metadata": {},
   "outputs": [],
   "source": [
    "def compose_pairs(classes):\n",
    "    pairs = list()\n",
    "    for cl in classes.keys():\n",
    "        tested_pairs = list()\n",
    "        for smpl in range(classes[cl].shape[0]):\n",
    "            for smpl2 in range(classes[cl].shape[0]):\n",
    "                if smpl != smpl2 and (smpl2, smpl) not in tested_pairs: #no cointegration with itself, check pair has not been tested\n",
    "                    tested_pairs.append((smpl2, smpl))\n",
    "                    cointegrated = coint(classes[cl].iloc[smpl, :], classes[cl].iloc[smpl2, :], return_results = True)\n",
    "                    if cointegrated[1] < 0.05: #pvalue\n",
    "                        pairs.append([classes[cl].iloc[smpl, :], classes[cl].iloc[smpl2,:]])\n",
    "    #pairs = pairs[1:]#the first pair is repeated\n",
    "    print('There are {} pairs at cointegration stage'.format(len(pairs)))\n",
    "    return pairs"
   ]
  },
  {
   "cell_type": "code",
   "execution_count": 21,
   "metadata": {},
   "outputs": [],
   "source": [
    "#check spread mean-reversion\n",
    "def calc_Hurst(pairs):\n",
    "    for pair in pairs:\n",
    "        spread = pair[0] - pair[1]\n",
    "        H, c, data = compute_Hc(spread)\n",
    "        if H >= 0.5: #Brownian motion or persistent\n",
    "            for ts in pair:\n",
    "                pair.remove(ts)\n",
    "            pairs.remove(pair)\n",
    "    print('There are {} pairs at Hurst stage'.format(len(pairs)))\n",
    "    return pairs"
   ]
  },
  {
   "cell_type": "code",
   "execution_count": 22,
   "metadata": {},
   "outputs": [],
   "source": [
    "#check mean-reversion half life\n",
    "# https://letianzj.github.io/mean-reversion.html\n",
    "\n",
    "def calc_half_life(pairs):\n",
    "    lin_reg = linear_model.LinearRegression()\n",
    "    for pair in pairs:\n",
    "        for ts_n, ts in enumerate(pair):\n",
    "            ts_delta = ts - ts.shift()\n",
    "            lin_reg.fit(np.array(ts.shift()[1:]).reshape(-1,1), np.array(ts_delta[1:]).reshape(-1,1)) \n",
    "            half_life = -np.log(2) / lin_reg.coef_.item()\n",
    "            if half_life < 1 or half_life > 365:\n",
    "                del pair[ts_n]\n",
    "                pairs.remove(pair)\n",
    "                break\n",
    "    print('There are {} pairs at mean-reversion half life stage'.format(len(pairs)))\n",
    "    return pairs"
   ]
  },
  {
   "cell_type": "code",
   "execution_count": 23,
   "metadata": {},
   "outputs": [],
   "source": [
    "#check that on average there are at least 12 crossings of spread mean per year\n",
    "def number_mean_reversions(pairs):\n",
    "    years_num  = len(price_train.index.to_timestamp().year.unique())\n",
    "    for pair in pairs:\n",
    "        spread = pair[0] - pair[1]\n",
    "        crosses = 0\n",
    "        for i in range(len(spread) - 1):\n",
    "            if (spread[i] > spread.mean() and spread[i + 1] < spread.mean()) or (spread[i] < spread.mean() and spread[i + 1] > spread.mean()):\n",
    "                crosses += 1\n",
    "        if crosses < 12 * years_num:\n",
    "            for ts in pair:\n",
    "                pair.remove(ts)\n",
    "            pairs.remove(pair)\n",
    "    print('There are {} pairs at calculation of mean-reversions number stage'.format(len(pairs)))\n",
    "    return pairs"
   ]
  },
  {
   "cell_type": "code",
   "execution_count": 24,
   "metadata": {},
   "outputs": [
    {
     "name": "stdout",
     "output_type": "stream",
     "text": [
      "There are 44 pairs at cointegration stage\n",
      "There are 28 pairs at Hurst stage\n",
      "There are 19 pairs at mean-reversion half life stage\n",
      "There are 9 pairs at calculation of mean-reversions number stage\n"
     ]
    }
   ],
   "source": [
    "raw_pairs = compose_pairs(raw_classes)\n",
    "raw_pairs = calc_Hurst(raw_pairs)\n",
    "raw_pairs = calc_half_life(raw_pairs)\n",
    "raw_pairs = number_mean_reversions(raw_pairs)"
   ]
  },
  {
   "cell_type": "code",
   "execution_count": null,
   "metadata": {},
   "outputs": [],
   "source": []
  },
  {
   "cell_type": "code",
   "execution_count": 25,
   "metadata": {},
   "outputs": [
    {
     "ename": "NameError",
     "evalue": "name 'pairs' is not defined",
     "output_type": "error",
     "traceback": [
      "\u001b[1;31m---------------------------------------------------------------------------\u001b[0m",
      "\u001b[1;31mNameError\u001b[0m                                 Traceback (most recent call last)",
      "\u001b[1;32m<ipython-input-25-b2bd11c2b33c>\u001b[0m in \u001b[0;36m<module>\u001b[1;34m\u001b[0m\n\u001b[0;32m      1\u001b[0m \u001b[0mplt\u001b[0m\u001b[1;33m.\u001b[0m\u001b[0mfigure\u001b[0m\u001b[1;33m(\u001b[0m\u001b[0mfigsize\u001b[0m \u001b[1;33m=\u001b[0m \u001b[1;33m(\u001b[0m\u001b[1;36m15\u001b[0m\u001b[1;33m,\u001b[0m \u001b[1;36m4\u001b[0m\u001b[1;33m)\u001b[0m\u001b[1;33m)\u001b[0m\u001b[1;33m\u001b[0m\u001b[1;33m\u001b[0m\u001b[0m\n\u001b[1;32m----> 2\u001b[1;33m \u001b[0mplt\u001b[0m\u001b[1;33m.\u001b[0m\u001b[0mplot\u001b[0m\u001b[1;33m(\u001b[0m\u001b[0mpairs\u001b[0m\u001b[1;33m[\u001b[0m\u001b[1;36m0\u001b[0m\u001b[1;33m]\u001b[0m\u001b[1;33m[\u001b[0m\u001b[1;36m0\u001b[0m\u001b[1;33m]\u001b[0m\u001b[1;33m.\u001b[0m\u001b[0mindex\u001b[0m\u001b[1;33m.\u001b[0m\u001b[0mto_timestamp\u001b[0m\u001b[1;33m(\u001b[0m\u001b[1;33m)\u001b[0m\u001b[1;33m[\u001b[0m\u001b[1;33m:\u001b[0m\u001b[1;36m50\u001b[0m\u001b[1;33m]\u001b[0m\u001b[1;33m,\u001b[0m \u001b[0mpairs\u001b[0m\u001b[1;33m[\u001b[0m\u001b[1;36m0\u001b[0m\u001b[1;33m]\u001b[0m\u001b[1;33m[\u001b[0m\u001b[1;36m0\u001b[0m\u001b[1;33m]\u001b[0m\u001b[1;33m[\u001b[0m\u001b[1;33m:\u001b[0m\u001b[1;36m50\u001b[0m\u001b[1;33m]\u001b[0m\u001b[1;33m,\u001b[0m \u001b[0mlabel\u001b[0m \u001b[1;33m=\u001b[0m \u001b[0mpairs\u001b[0m\u001b[1;33m[\u001b[0m\u001b[1;36m0\u001b[0m\u001b[1;33m]\u001b[0m\u001b[1;33m[\u001b[0m\u001b[1;36m0\u001b[0m\u001b[1;33m]\u001b[0m\u001b[1;33m.\u001b[0m\u001b[0mname\u001b[0m\u001b[1;33m)\u001b[0m\u001b[1;33m\u001b[0m\u001b[1;33m\u001b[0m\u001b[0m\n\u001b[0m\u001b[0;32m      3\u001b[0m \u001b[0mplt\u001b[0m\u001b[1;33m.\u001b[0m\u001b[0mplot\u001b[0m\u001b[1;33m(\u001b[0m\u001b[0mpairs\u001b[0m\u001b[1;33m[\u001b[0m\u001b[1;36m0\u001b[0m\u001b[1;33m]\u001b[0m\u001b[1;33m[\u001b[0m\u001b[1;36m1\u001b[0m\u001b[1;33m]\u001b[0m\u001b[1;33m.\u001b[0m\u001b[0mindex\u001b[0m\u001b[1;33m.\u001b[0m\u001b[0mto_timestamp\u001b[0m\u001b[1;33m(\u001b[0m\u001b[1;33m)\u001b[0m\u001b[1;33m[\u001b[0m\u001b[1;33m:\u001b[0m\u001b[1;36m50\u001b[0m\u001b[1;33m]\u001b[0m\u001b[1;33m,\u001b[0m \u001b[0mpairs\u001b[0m\u001b[1;33m[\u001b[0m\u001b[1;36m0\u001b[0m\u001b[1;33m]\u001b[0m\u001b[1;33m[\u001b[0m\u001b[1;36m1\u001b[0m\u001b[1;33m]\u001b[0m\u001b[1;33m[\u001b[0m\u001b[1;33m:\u001b[0m\u001b[1;36m50\u001b[0m\u001b[1;33m]\u001b[0m\u001b[1;33m,\u001b[0m \u001b[0mlabel\u001b[0m \u001b[1;33m=\u001b[0m \u001b[0mpairs\u001b[0m\u001b[1;33m[\u001b[0m\u001b[1;36m0\u001b[0m\u001b[1;33m]\u001b[0m\u001b[1;33m[\u001b[0m\u001b[1;36m1\u001b[0m\u001b[1;33m]\u001b[0m\u001b[1;33m.\u001b[0m\u001b[0mname\u001b[0m\u001b[1;33m)\u001b[0m\u001b[1;33m\u001b[0m\u001b[1;33m\u001b[0m\u001b[0m\n\u001b[0;32m      4\u001b[0m \u001b[0mplt\u001b[0m\u001b[1;33m.\u001b[0m\u001b[0mlegend\u001b[0m\u001b[1;33m(\u001b[0m\u001b[1;33m)\u001b[0m\u001b[1;33m\u001b[0m\u001b[1;33m\u001b[0m\u001b[0m\n\u001b[0;32m      5\u001b[0m \u001b[0mplt\u001b[0m\u001b[1;33m.\u001b[0m\u001b[0mxlabel\u001b[0m\u001b[1;33m(\u001b[0m\u001b[1;34m'date'\u001b[0m\u001b[1;33m)\u001b[0m\u001b[1;33m\u001b[0m\u001b[1;33m\u001b[0m\u001b[0m\n",
      "\u001b[1;31mNameError\u001b[0m: name 'pairs' is not defined"
     ]
    },
    {
     "data": {
      "text/plain": [
       "<Figure size 1080x288 with 0 Axes>"
      ]
     },
     "metadata": {},
     "output_type": "display_data"
    }
   ],
   "source": [
    "plt.figure(figsize = (15, 4))\n",
    "plt.plot(pairs[0][0].index.to_timestamp()[:50], pairs[0][0][:50], label = pairs[0][0].name)\n",
    "plt.plot(pairs[0][1].index.to_timestamp()[:50], pairs[0][1][:50], label = pairs[0][1].name)\n",
    "plt.legend()\n",
    "plt.xlabel('date')\n",
    "plt.ylabel('filtered price')\n",
    "plt.title('Filtered prices of {} and {}'.format(pairs[0][0].name, pairs[0][1].name));"
   ]
  },
  {
   "cell_type": "code",
   "execution_count": null,
   "metadata": {},
   "outputs": [],
   "source": [
    "#Попробовать на нефильтрованных данных\n",
    "plt.figure(figsize = (15, 4))\n",
    "plt.plot(pairs[0][0].index.to_timestamp(), close.loc[pairs[0][0].index, ('Adj Close',pairs[0][0].name)], label = pairs[0][0].name)\n",
    "plt.plot(pairs[0][1].index.to_timestamp(), close.loc[pairs[0][1].index, ('Adj Close',pairs[0][1].name)], label = pairs[0][1].name)\n",
    "plt.legend()\n",
    "plt.xlabel('date')\n",
    "plt.ylabel('price')\n",
    "plt.title('Prices of {} and {}'.format(pairs[0][0].name, pairs[0][1].name));"
   ]
  },
  {
   "cell_type": "markdown",
   "metadata": {},
   "source": [
    "### Spread prediction"
   ]
  },
  {
   "cell_type": "code",
   "execution_count": 26,
   "metadata": {},
   "outputs": [],
   "source": [
    "def spread_change(spread):\n",
    "    spread_chg = (spread.shift(-1) - spread)[:-1]\n",
    "    #spread[spread == 0] = 0.00000001 #to avoid division by zero\n",
    "    spread_chg = spread_chg / spread[:-1]\n",
    "    return spread_chg"
   ]
  },
  {
   "cell_type": "code",
   "execution_count": null,
   "metadata": {},
   "outputs": [],
   "source": []
  },
  {
   "cell_type": "code",
   "execution_count": 27,
   "metadata": {},
   "outputs": [],
   "source": [
    "#formation period - train set\n",
    "#pairs - filtered prices but need to use ordinary ones\n",
    "spread = pairs[0][0] - pairs[0][1]\n",
    "spread_chg = spread_change(spread)"
   ]
  },
  {
   "cell_type": "code",
   "execution_count": 28,
   "metadata": {},
   "outputs": [
    {
     "data": {
      "image/png": "[encoded data removed]",
      "text/plain": [
       "<Figure size 432x288 with 1 Axes>"
      ]
     },
     "metadata": {
      "needs_background": "light"
     },
     "output_type": "display_data"
    }
   ],
   "source": [
    "from statsmodels.graphics.tsaplots import plot_acf\n",
    "plot_acf(spread); #it is rather small, so try lags in range of 1"
   ]
  },
  {
   "cell_type": "code",
   "execution_count": 38,
   "metadata": {},
   "outputs": [],
   "source": [
    "q = np.quantile(spread_chg, [0.2, 0.8], interpolation = 'linear')\n",
    "d = np.quantile(spread_chg, [0.1, 0.9], interpolation = 'linear')"
   ]
  },
  {
   "cell_type": "code",
   "execution_count": null,
   "metadata": {},
   "outputs": [],
   "source": []
  },
  {
   "cell_type": "code",
   "execution_count": 31,
   "metadata": {},
   "outputs": [
    {
     "data": {
      "image/png": "[encoded data removed]",
      "text/plain": [
       "<Figure size 504x360 with 1 Axes>"
      ]
     },
     "metadata": {
      "needs_background": "light"
     },
     "output_type": "display_data"
    }
   ],
   "source": [
    "plt.figure(figsize=(7, 5))\n",
    "plt.hist(spread_chg, bins = 500)\n",
    "plt.title('Distribution of {}-{} spread percentage change'.format(pairs[0][0].name, pairs[0][1].name))\n",
    "plt.xlabel('percentage change')\n",
    "plt.ylabel('day count')\n",
    "for dec in d:\n",
    "    plt.vlines(dec, 0, 130, colors = 'pink', label = '{} decile'.format(dec))\n",
    "for quant in q:\n",
    "    plt.vlines(quant, 0, 130, colors = 'red', label = '{} qunatile'.format(quant))\n",
    "plt.legend()\n",
    "plt.xlim(-50, 50)\n",
    "plt.ylim(0,130);"
   ]
  },
  {
   "cell_type": "code",
   "execution_count": 330,
   "metadata": {},
   "outputs": [],
   "source": [
    "def arma_garch(price):\n",
    "    order = 10 / price.std()\n",
    "    mod = arch_model(order * price,\n",
    "                    mean='ARX', lags=1, # mean = Constant, ARX, HARX + the number of lags\n",
    "                    vol='Garch', p=1, o=1, q=1, # vol = Garch, EGARCH, HARCH + the number of lags\n",
    "                    dist='skewstudent')#, rescale = False)#    StudentsT') \n",
    "    mod_fit = mod.fit(options = {'maxiter':500}, disp='off', show_warning = False)\n",
    "    pred = mod_fit.forecast(horizon=1)\n",
    "    return mod_fit.resid[1:] / mod_fit.conditional_volatility[1:], float(pred.mean.iloc[-1]), float(pred.variance.iloc[-1])"
   ]
  },
  {
   "cell_type": "code",
   "execution_count": 28,
   "metadata": {},
   "outputs": [],
   "source": [
    "def trade(a_sh, a_lo, window, account, next_df, previous_df, name1, name2, mode = 'none'):\n",
    "    \"\"\"Insert only unfiltered previous_df and next_df, else they will be filtered twice\"\"\"\n",
    "    portfolio_value_list = []\n",
    "    acc_return_list = []\n",
    "    cap_invested = []\n",
    "    comission = 0.001\n",
    "    stock1 = 0\n",
    "    stock2 = 0\n",
    "    acc_return = 0.0\n",
    "    prev_capital = 0.0\n",
    "    prev_price1 = 0.0\n",
    "    prev_price2 = 0.0\n",
    "    prev_stock1 = 0\n",
    "    prev_stock2 = 0\n",
    "    start_idx = 0\n",
    "    trade_indicator = 'no_trade'\n",
    "    portfolio_value = 0\n",
    "    end_idx = start_idx + window + 1 #last observation is not included\n",
    "    resid = 0.0\n",
    "    full_df = pd.concat([previous_df.iloc[-window:,:], next_df], axis = 0)\n",
    "    while end_idx <= full_df.shape[0] - 1:\n",
    "        p1 = full_df[name1][start_idx:end_idx]\n",
    "        p2 = full_df[name2][start_idx:end_idx]\n",
    "        if mode == 'filter':\n",
    "            p1 = arma_garch(p1)[0]\n",
    "            p2 = arma_garch(p2)[0]\n",
    "        spread = p1 - p2\n",
    "        arma = ARIMA(np.array(spread), order = (1,0,1)).fit()\n",
    "        pred = arma.forecast(steps=1, exog=None, alpha=0.01)\n",
    "        pred_chg = (pred - spread[-1:] / spread[-1:])[0]\n",
    "        \n",
    "        price1 = p1[-1:][0]\n",
    "        price2 = p2[-1:][0]\n",
    "        #if price1 < 0:\n",
    "        #    price1 = - price1\n",
    "        #if price2 < 0:\n",
    "        #    price2 = - price2\n",
    "        portfolio_value = resid + stock1 * price1 + stock2 * price2 #portfolio revaluation \n",
    "        portfolio_value_list.append(portfolio_value)\n",
    "        \n",
    "        if price1 != 0 and price2 != 0: #if stock was traded\n",
    "            if trade_indicator == 'short':\n",
    "                acc_return += ((prev_price1 - price1)*prev_stock1 + (price2 - prev_price2)*prev_stock2) / prev_capital\n",
    "            elif trade_indicator == 'long':\n",
    "                acc_return += (prev_price2 - price2)*prev_stock2 + (price1 - prev_price1)*prev_price1 / prev_capital\n",
    "            acc_return_list.append(acc_return)\n",
    "            \n",
    "            if pred_chg <= a_sh:\n",
    "                trade_indicator = 'short'\n",
    "                deal1 = stock1 * price1 * (1 - comission) #sell stock1\n",
    "                if stock1 != 0:\n",
    "                    prev_stock1 = stock1\n",
    "                if deal1 > allocated_capital: \n",
    "                    stock1_to_sell = allocated_capital // (price1 * (1 - comission))\n",
    "                    deal1 = stock1_to_sell * price1 * (1 - comission)\n",
    "                    stock1 -= stock1_to_sell\n",
    "                    if stock1_to_sell != 0:\n",
    "                        prev_stock1 = stock1_to_sell\n",
    "                else:\n",
    "                    stock1 = 0\n",
    "                account += deal1\n",
    "                stock_2_bought = account // (price2 * (1 + comission))\n",
    "                deal2 = stock_2_bought * price2 * (1 + comission) #buy stock2\n",
    "                if deal2 > allocated_capital:\n",
    "                    stock_2_bought = allocated_capital // (price2 * (1 + comission))\n",
    "                    deal2 = stock_2_bought * price2 * (1 + comission)\n",
    "                account -= deal2\n",
    "                resid = account\n",
    "                stock2 += stock_2_bought\n",
    "\n",
    "                if deal1+deal2 != 0:\n",
    "                    prev_capital = deal1+deal2\n",
    "                    cap_invested.append(prev_capital)\n",
    "                if stock_2_bought != 0:\n",
    "                    prev_stock2 = stock_2_bought\n",
    "\n",
    "            elif pred_chg >= a_lo:\n",
    "                trade_indicator = 'long'\n",
    "                deal2 = stock2 * price2 * (1 - comission) #sell stock2\n",
    "                if stock2 != 0:\n",
    "                    prev_stock2 = stock2\n",
    "                if deal2 > allocated_capital:\n",
    "                    stock2_to_sell = allocated_capital // (price2 * (1 - comission))\n",
    "                    deal2 = stock2_to_sell * price2 * (1 - comission)\n",
    "                    stock2 -= stock2_to_sell\n",
    "                    if stock2_to_sell != 0:\n",
    "                        prev_stock2 = stock2_to_sell\n",
    "                else:\n",
    "                    stock2 = 0\n",
    "                account += deal2\n",
    "                stock_1_bought = account // (price1 * (1 + comission))\n",
    "                deal1 = stock_1_bought * price1 * (1 + comission) #buy stock1\n",
    "                if deal1 > allocated_capital:\n",
    "                    stock_1_bought = allocated_capital // (price1 * (1 + comission))\n",
    "                    deal1 = stock_1_bought * price1 * (1 + comission)\n",
    "                account -= deal1\n",
    "                resid = account\n",
    "                stock1 += stock_1_bought\n",
    "                if deal1+deal2 != 0:\n",
    "                    prev_capital = deal1+deal2\n",
    "                    cap_invested.append(prev_capital)\n",
    "                if stock_1_bought != 0:\n",
    "                    prev_stock1 = stock_1_bought\n",
    "\n",
    "            prev_price1 = price1\n",
    "            prev_price2 = price2\n",
    "            \n",
    "        start_idx += 1\n",
    "        end_idx += 1\n",
    "        \n",
    "    portfolio_value_list[0] = allocated_capital\n",
    "    return acc_return_list, portfolio_value_list, cap_invested\n",
    "\n",
    "def calc_returns(val_port_value, allocated_capital):\n",
    "    total_returns = []\n",
    "    for p in val_port_value:\n",
    "            total_returns.append((p - allocated_capital) * 100 / allocated_capital)\n",
    "            total_returns[0] = 0 #because at index 0 there has not been any return yet\n",
    "    return total_returns \n",
    "    "
   ]
  },
  {
   "cell_type": "code",
   "execution_count": 29,
   "metadata": {},
   "outputs": [],
   "source": [
    "from statsmodels.tsa.arima.model import ARIMA\n",
    "from statistics import mean\n",
    "\n",
    "def find_thresholds(pairs,price_train,  price_val, prev_df, window, allocated_capital, mode = 'none'):\n",
    "    chosen_params = []\n",
    "    cv_profit = []\n",
    "\n",
    "    for pair_num in range(len(pairs)):\n",
    "        name1 = pairs[pair_num][0].name\n",
    "        name2 = pairs[pair_num][1].name\n",
    "        spread = price_train.loc[:, name1] - price_train.loc[:, name2]\n",
    "        spread_chg = spread_change(spread)\n",
    "        quantiles = np.quantile(spread_chg, [0.2, 0.8], interpolation = 'linear')\n",
    "        deciles = np.quantile(spread_chg, [0.1, 0.9], interpolation = 'linear')\n",
    "\n",
    "        cv_thresh_res = []\n",
    "        for thresh in [quantiles, deciles]:\n",
    "            val_returns, val_port_value, cap_inv = trade(thresh[0], thresh[1], window, allocated_capital,  price_val, prev_df, name1, name2, mode) \n",
    "            total_returns = calc_returns(val_port_value, allocated_capital)\n",
    "            cv_thresh_res.append(mean(total_returns)) #not sum but mean\n",
    "            #cv_thresh_res.append(account)\n",
    "        best_thresh = cv_thresh_res.index(max(cv_thresh_res))\n",
    "        if best_thresh == 0:\n",
    "            chosen_params.append(pd.Series(quantiles,name = pairs[pair_num][0].name + '-' + pairs[pair_num][1].name))\n",
    "        else:\n",
    "            chosen_params.append(pd.Series(deciles, name = pairs[pair_num][0].name + '-' + pairs[pair_num][1].name))\n",
    "        max_profit =  max(cv_thresh_res)\n",
    "        cv_profit.append(pd.Series(max_profit, name = pairs[pair_num][0].name + '-' + pairs[pair_num][1].name))\n",
    "    return cv_profit, chosen_params"
   ]
  },
  {
   "cell_type": "code",
   "execution_count": 120,
   "metadata": {},
   "outputs": [
    {
     "name": "stderr",
     "output_type": "stream",
     "text": [
      "C:\\Users\\Dell\\anaconda3\\lib\\site-packages\\statsmodels\\tsa\\statespace\\sarimax.py:963: UserWarning: Non-stationary starting autoregressive parameters found. Using zeros as starting parameters.\n",
      "  warn('Non-stationary starting autoregressive parameters'\n"
     ]
    }
   ],
   "source": [
    "allocated_capital = 500000 #Further we will chose 5 stocks\n",
    "raw_cv_profit, raw_chosen_params = find_thresholds(raw_pairs, raw_price_train, raw_price_val, raw_price_train, 200, allocated_capital)"
   ]
  },
  {
   "cell_type": "code",
   "execution_count": 121,
   "metadata": {},
   "outputs": [],
   "source": [
    "def find_best_pairs(cv_profit):\n",
    "    profitable = 0\n",
    "    unprofitable = 0\n",
    "    profitable_pairs = []\n",
    "    value = []\n",
    "    name = []\n",
    "    for num, trade in enumerate(cv_profit):\n",
    "        indicator = 0\n",
    "        trade_names = trade.name.split('-')\n",
    "        for sec_trade in cv_profit[num + 1:]: #check pairs do not repeat\n",
    "            sec_trade_name = sec_trade.name.split('-')\n",
    "            if trade_names[0] in sec_trade_name and trade_names[1] in sec_trade_name:\n",
    "                indicator += 1\n",
    "        if indicator == 0:\n",
    "            if trade[0]> 0: \n",
    "                profitable += 1\n",
    "                value.append(trade[0])\n",
    "                name.append(trade.name)\n",
    "            else: \n",
    "                unprofitable += 1\n",
    "    print('There are {} profitable and {} unprofitable pairs'.format(profitable, unprofitable)) \n",
    "    print('These ones are profitable')\n",
    "\n",
    "    df_profit_pairs = pd.DataFrame([value, name]).transpose()\n",
    "    df_profit_pairs.columns = ['return', 'pair']\n",
    "    df_profit_pairs.sort_values(by = 'return', inplace = True, ascending = False)\n",
    "    return df_profit_pairs"
   ]
  },
  {
   "cell_type": "code",
   "execution_count": 122,
   "metadata": {},
   "outputs": [
    {
     "name": "stdout",
     "output_type": "stream",
     "text": [
      "There are 7 profitable and 1 unprofitable pairs\n",
      "These ones are profitable\n"
     ]
    },
    {
     "data": {
      "text/html": [
       "<div>\n",
       "<style scoped>\n",
       "    .dataframe tbody tr th:only-of-type {\n",
       "        vertical-align: middle;\n",
       "    }\n",
       "\n",
       "    .dataframe tbody tr th {\n",
       "        vertical-align: top;\n",
       "    }\n",
       "\n",
       "    .dataframe thead th {\n",
       "        text-align: right;\n",
       "    }\n",
       "</style>\n",
       "<table border=\"1\" class=\"dataframe\">\n",
       "  <thead>\n",
       "    <tr style=\"text-align: right;\">\n",
       "      <th></th>\n",
       "      <th>return</th>\n",
       "      <th>pair</th>\n",
       "    </tr>\n",
       "  </thead>\n",
       "  <tbody>\n",
       "    <tr>\n",
       "      <th>3</th>\n",
       "      <td>29.7529</td>\n",
       "      <td>MSFT-CSCO</td>\n",
       "    </tr>\n",
       "    <tr>\n",
       "      <th>5</th>\n",
       "      <td>29.6839</td>\n",
       "      <td>SHLDQ-EBAY</td>\n",
       "    </tr>\n",
       "    <tr>\n",
       "      <th>0</th>\n",
       "      <td>23.0109</td>\n",
       "      <td>GLW-ADSK</td>\n",
       "    </tr>\n",
       "    <tr>\n",
       "      <th>6</th>\n",
       "      <td>19.7094</td>\n",
       "      <td>C-GS</td>\n",
       "    </tr>\n",
       "    <tr>\n",
       "      <th>1</th>\n",
       "      <td>13.9515</td>\n",
       "      <td>CSCO-BA</td>\n",
       "    </tr>\n",
       "    <tr>\n",
       "      <th>4</th>\n",
       "      <td>12.7612</td>\n",
       "      <td>ORCL-GOOGL</td>\n",
       "    </tr>\n",
       "    <tr>\n",
       "      <th>2</th>\n",
       "      <td>3.95904</td>\n",
       "      <td>INTC-CSCO</td>\n",
       "    </tr>\n",
       "  </tbody>\n",
       "</table>\n",
       "</div>"
      ],
      "text/plain": [
       "    return        pair\n",
       "3  29.7529   MSFT-CSCO\n",
       "5  29.6839  SHLDQ-EBAY\n",
       "0  23.0109    GLW-ADSK\n",
       "6  19.7094        C-GS\n",
       "1  13.9515     CSCO-BA\n",
       "4  12.7612  ORCL-GOOGL\n",
       "2  3.95904   INTC-CSCO"
      ]
     },
     "execution_count": 122,
     "metadata": {},
     "output_type": "execute_result"
    }
   ],
   "source": [
    "raw_profit_pairs = find_best_pairs(raw_cv_profit)\n",
    "raw_profit_pairs.head(10)"
   ]
  },
  {
   "cell_type": "code",
   "execution_count": null,
   "metadata": {},
   "outputs": [],
   "source": []
  },
  {
   "cell_type": "code",
   "execution_count": 123,
   "metadata": {},
   "outputs": [],
   "source": [
    "def choose_from_best(number_of_pairs, df_profit_pairs, chosen_params):\n",
    "    if number_of_pairs > df_profit_pairs.shape[0]:\n",
    "        print('There are less than {} pairs available'.format(number_of_pairs))\n",
    "        number_of_pairs = df_profit_pairs.shape[0]\n",
    "    chosen_pairs = df_profit_pairs.iloc[:number_of_pairs, :]\n",
    "    print('These pairs chosen are:')\n",
    "    print(chosen_pairs)\n",
    "    \n",
    "    quantiles_chosen = []\n",
    "    for pair in chosen_pairs.pair:\n",
    "        for q in chosen_params:\n",
    "            if q.name == pair:\n",
    "                quantiles_chosen.append(np.array(q))\n",
    "    return chosen_pairs, quantiles_chosen\n",
    "    "
   ]
  },
  {
   "cell_type": "code",
   "execution_count": 124,
   "metadata": {},
   "outputs": [
    {
     "name": "stdout",
     "output_type": "stream",
     "text": [
      "There are less than 8 pairs available\n",
      "These pairs chosen are:\n",
      "    return        pair\n",
      "3  29.7529   MSFT-CSCO\n",
      "5  29.6839  SHLDQ-EBAY\n",
      "0  23.0109    GLW-ADSK\n",
      "6  19.7094        C-GS\n",
      "1  13.9515     CSCO-BA\n",
      "4  12.7612  ORCL-GOOGL\n",
      "2  3.95904   INTC-CSCO\n"
     ]
    }
   ],
   "source": [
    "raw_chosen_pairs, raw_quantiles = choose_from_best(8, raw_profit_pairs, raw_chosen_params)"
   ]
  },
  {
   "cell_type": "code",
   "execution_count": 125,
   "metadata": {},
   "outputs": [],
   "source": [
    "capital = 3000000 \n",
    "n_assets = raw_chosen_pairs.shape[0]\n",
    "allocated_capital = 500000#capital / n_assets"
   ]
  },
  {
   "cell_type": "code",
   "execution_count": 126,
   "metadata": {},
   "outputs": [],
   "source": [
    "def real_returns(quantiles_chosen, chosen_pairs, window, allocated_capital, df_price, df_prev):\n",
    "    portfolio_returns = []\n",
    "    portfolio_value = []\n",
    "    for num, pair in enumerate(chosen_pairs.pair):\n",
    "        name1, name2 = pair.split('-')\n",
    "        test_ret, test_port, test_cap = trade(quantiles_chosen[num][0], quantiles_chosen[num][1], window, allocated_capital,  df_price, df_prev, name1, name2)\n",
    "        pair_returns = calc_returns(test_port, allocated_capital)\n",
    "        portfolio_returns.append(pd.Series(pair_returns, name = pair, index = close.index[-len(pair_returns):]))\n",
    "        portfolio_value.append(pd.Series(test_port, name = pair, index = close.index[-len(test_port):]))\n",
    "    return portfolio_returns, portfolio_value"
   ]
  },
  {
   "cell_type": "code",
   "execution_count": null,
   "metadata": {},
   "outputs": [],
   "source": []
  },
  {
   "cell_type": "code",
   "execution_count": 127,
   "metadata": {},
   "outputs": [],
   "source": [
    "raw_returns, raw_port_value = real_returns(raw_quantiles, raw_chosen_pairs, 200, allocated_capital, raw_price_test, raw_price_val)"
   ]
  },
  {
   "cell_type": "code",
   "execution_count": 128,
   "metadata": {},
   "outputs": [
    {
     "data": {
      "image/png": "[encoded data removed]",
      "text/plain": [
       "<Figure size 1224x360 with 1 Axes>"
      ]
     },
     "metadata": {
      "needs_background": "light"
     },
     "output_type": "display_data"
    }
   ],
   "source": [
    "plt.figure(figsize = (17,5))\n",
    "plt.hlines(0, xmin = raw_returns[0].index.to_timestamp()[0], xmax = raw_returns[0].index.to_timestamp()[-1], color = 'black', linestyles = 'dashed')\n",
    "plt.plot(raw_returns[0].index.to_timestamp(), (sum(raw_returns)/len(raw_returns)).rolling(2).sum(), label = 'portfolio returns', color = 'blue', linewidth = 4)\n",
    "for n_ret, ret in enumerate(raw_returns):\n",
    "    plt.plot(ret.index.to_timestamp(), ret.rolling(2).sum(), label = ret.name)\n",
    "    plt.legend()\n",
    "plt.xlabel('date')\n",
    "plt.ylabel('return %')\n",
    "plt.title('Pairs returns');"
   ]
  },
  {
   "cell_type": "markdown",
   "metadata": {},
   "source": [
    "### Backtesting"
   ]
  },
  {
   "cell_type": "code",
   "execution_count": 129,
   "metadata": {},
   "outputs": [],
   "source": [
    "def view_cum_returns(returns):\n",
    "    for ret in returns:\n",
    "        r = ret.rolling(2).sum()[-1:]\n",
    "        print('cumulative return for {} is {}%'.format(ret.name, r[0]))\n",
    "    port_ret = sum(returns) / len(returns)\n",
    "    port_ret_cum = port_ret.rolling(2).sum()[-1:]\n",
    "    print('cumulative return for portfolio is {}%'.format(port_ret_cum[0]))"
   ]
  },
  {
   "cell_type": "code",
   "execution_count": 130,
   "metadata": {},
   "outputs": [
    {
     "name": "stdout",
     "output_type": "stream",
     "text": [
      "cumulative return for MSFT-CSCO is 81.43794225090326%\n",
      "cumulative return for SHLDQ-EBAY is 101.24780429154977%\n",
      "cumulative return for GLW-ADSK is 67.7536273608826%\n",
      "cumulative return for C-GS is -18.658826392974696%\n",
      "cumulative return for CSCO-BA is -96.38397300057369%\n",
      "cumulative return for ORCL-GOOGL is 44.32579185400394%\n",
      "cumulative return for INTC-CSCO is -35.74372830609883%\n",
      "cumulative return for portfolio is 20.568376865384632%\n"
     ]
    }
   ],
   "source": [
    "view_cum_returns(raw_returns)"
   ]
  },
  {
   "cell_type": "markdown",
   "metadata": {},
   "source": [
    "#### Sharpe ratio"
   ]
  },
  {
   "cell_type": "code",
   "execution_count": 131,
   "metadata": {},
   "outputs": [
    {
     "name": "stdout",
     "output_type": "stream",
     "text": [
      "[*********************100%***********************]  1 of 1 completed\n",
      "[*********************100%***********************]  1 of 1 completed\n"
     ]
    }
   ],
   "source": [
    "size = len(raw_returns[0])\n",
    "risk_free = yf.download('^IRX', start = \"2020-01-02\", end = \"2020-09-05\")['Adj Close'][-size:]\n",
    "market_idx = yf.download('^GSPC', start = \"2020-01-01\", end = \"2020-09-05\")['Adj Close'].pct_change()[1:][-size:] * 100\n",
    "risk_free.index = risk_free.index.to_period(freq='d')\n",
    "market_idx.index = market_idx.index.to_period(freq='d')"
   ]
  },
  {
   "cell_type": "code",
   "execution_count": 132,
   "metadata": {},
   "outputs": [],
   "source": [
    "def sharpe(port_returns):\n",
    "    interest_adj = (1 + risk_free)**(1/252) - 1 #since we are given annual rates\n",
    "    for p in port_returns:\n",
    "        excess_return = p - interest_adj\n",
    "        sharpe = excess_return.mean() / excess_return.std()\n",
    "        print('Sharpe ratio for {} is {}'.format(p.name, sharpe))\n",
    "    all_returns = sum(port_returns) / len(port_returns)\n",
    "    all_ex_ret = all_returns - interest_adj\n",
    "    sharpe_p = all_ex_ret.mean() / all_ex_ret.std()\n",
    "    print('Sharpe ratio for portfolio is {}'.format(sharpe_p))"
   ]
  },
  {
   "cell_type": "code",
   "execution_count": 133,
   "metadata": {},
   "outputs": [
    {
     "name": "stdout",
     "output_type": "stream",
     "text": [
      "Sharpe ratio for MSFT-CSCO is 1.0478272089798926\n",
      "Sharpe ratio for SHLDQ-EBAY is 0.7551738962766243\n",
      "Sharpe ratio for GLW-ADSK is 0.487350938956684\n",
      "Sharpe ratio for C-GS is -1.192163817693773\n",
      "Sharpe ratio for CSCO-BA is -1.736879266124932\n",
      "Sharpe ratio for ORCL-GOOGL is 0.2329928168478736\n",
      "Sharpe ratio for INTC-CSCO is -0.5032867662125219\n",
      "Sharpe ratio for portfolio is -0.1586476146167834\n"
     ]
    }
   ],
   "source": [
    "sharpe(raw_returns)"
   ]
  },
  {
   "cell_type": "markdown",
   "metadata": {},
   "source": [
    "#### Beta"
   ]
  },
  {
   "cell_type": "code",
   "execution_count": 134,
   "metadata": {},
   "outputs": [],
   "source": [
    "from sklearn.linear_model import LinearRegression\n",
    "def beta(results):\n",
    "    portfolio_beta = 0\n",
    "    for i in results:\n",
    "        capm = LinearRegression(fit_intercept = True).fit(np.array(market_idx).reshape(-1, 1), np.array(i).reshape(-1, 1))\n",
    "        beta = capm.coef_[0][0]\n",
    "        print('beta for {} pair is {}'.format(i.name, beta))\n",
    "        portfolio_beta += beta\n",
    "    portfolio_beta = portfolio_beta / len(results)\n",
    "    print('portfolio beta is {}'.format(portfolio_beta))"
   ]
  },
  {
   "cell_type": "code",
   "execution_count": 135,
   "metadata": {},
   "outputs": [
    {
     "name": "stdout",
     "output_type": "stream",
     "text": [
      "beta for MSFT-CSCO pair is -0.22914602135766718\n",
      "beta for SHLDQ-EBAY pair is 0.06765272956519638\n",
      "beta for GLW-ADSK pair is -0.2980859806954878\n",
      "beta for C-GS pair is -0.5581619198893634\n",
      "beta for CSCO-BA pair is -1.0943225516794377\n",
      "beta for ORCL-GOOGL pair is -0.3842495861069729\n",
      "beta for INTC-CSCO pair is -0.38534103193492225\n",
      "portfolio beta is -0.4116649088712364\n"
     ]
    }
   ],
   "source": [
    "raw_beta = beta(raw_returns)"
   ]
  },
  {
   "cell_type": "markdown",
   "metadata": {},
   "source": [
    "#### Maximum drawdown"
   ]
  },
  {
   "cell_type": "code",
   "execution_count": 136,
   "metadata": {},
   "outputs": [],
   "source": [
    "def max_drawdown(val, allocated_capital):\n",
    "    max_ = max(val)\n",
    "    max_idx = list(val).index(max_)\n",
    "    if max_idx != len(val) -1:\n",
    "        min_ = min(val[max_idx + 1:])\n",
    "    else:\n",
    "        min_ = min(val)\n",
    "    return (max_ - min_) * 100 / allocated_capital"
   ]
  },
  {
   "cell_type": "code",
   "execution_count": 137,
   "metadata": {},
   "outputs": [],
   "source": [
    "def daily_drawdown(port_value, allocated_capital):\n",
    "    sep_drawdowns = []\n",
    "    for port in port_value:\n",
    "        day_drawdown = port.diff().dropna()\n",
    "        day_drawdown = day_drawdown * 100 / allocated_capital\n",
    "        sep_drawdowns.append(day_drawdown)\n",
    "        print('maximum daily drawdown for {} is {}%'.format(day_drawdown.name, round(max(day_drawdown), 2)))\n",
    "    portfolio_drawdown = sum(port_value).diff().dropna() * 100 / (allocated_capital * len(port_value))\n",
    "    print('maximum daily drawdown for portfolio is {}%'.format(round(max(portfolio_drawdown), 2)))\n",
    "    return sep_drawdowns, portfolio_drawdown\n",
    "\n",
    "def week_mdd(port, allocated_capital):\n",
    "    weeks = port.resample('W')\n",
    "    week_mdd = []\n",
    "    for w in weeks:\n",
    "        w_mdd = max_drawdown(w[1], allocated_capital)\n",
    "        week_mdd.append(w_mdd)\n",
    "    return max(week_mdd)\n",
    "\n",
    "\n",
    "def weekly_drawdown(port_value, allocated_capital):\n",
    "    sep_drawdowns = []\n",
    "    for port in port_value:\n",
    "        w_mdd = week_mdd(port, allocated_capital)\n",
    "        sep_drawdowns.append(w_mdd)\n",
    "        print('maximum weekly drawdown for {} is {}%'.format(port.name, round(w_mdd, 2)))\n",
    "    all_port = sum(port_value)\n",
    "    portfolio_drawdown  = week_mdd(all_port, allocated_capital * len(port_value))\n",
    "    print('maximum weekly drawdown for portfolio is {}%'.format(round(portfolio_drawdown, 2)))\n",
    "    return sep_drawdowns, portfolio_drawdown"
   ]
  },
  {
   "cell_type": "code",
   "execution_count": 138,
   "metadata": {},
   "outputs": [
    {
     "name": "stdout",
     "output_type": "stream",
     "text": [
      "maximum daily drawdown for MSFT-CSCO is 12.33%\n",
      "maximum daily drawdown for SHLDQ-EBAY is 8.31%\n",
      "maximum daily drawdown for GLW-ADSK is 11.72%\n",
      "maximum daily drawdown for C-GS is 11.36%\n",
      "maximum daily drawdown for CSCO-BA is 9.36%\n",
      "maximum daily drawdown for ORCL-GOOGL is 8.0%\n",
      "maximum daily drawdown for INTC-CSCO is 14.67%\n",
      "maximum daily drawdown for portfolio is 9.27%\n",
      "~~~~~~~~~~~~~~~~~~~~~~~~~~~~~~~~~~~~~~~~~~~~~~\n",
      "maximum weekly drawdown for MSFT-CSCO is 14.6%\n",
      "maximum weekly drawdown for SHLDQ-EBAY is 13.48%\n",
      "maximum weekly drawdown for GLW-ADSK is 19.9%\n",
      "maximum weekly drawdown for C-GS is 18.09%\n",
      "maximum weekly drawdown for CSCO-BA is 32.4%\n",
      "maximum weekly drawdown for ORCL-GOOGL is 13.45%\n",
      "maximum weekly drawdown for INTC-CSCO is 16.88%\n",
      "maximum weekly drawdown for portfolio is 17.72%\n"
     ]
    }
   ],
   "source": [
    "raw_day_mdd_sep, raw_day_mdd_all = daily_drawdown(raw_port_value, allocated_capital)\n",
    "print('~~~~~~~~~~~~~~~~~~~~~~~~~~~~~~~~~~~~~~~~~~~~~~')\n",
    "raw_week_mdd_sep, raw_week_mdd_all = weekly_drawdown(raw_port_value, allocated_capital)"
   ]
  },
  {
   "cell_type": "markdown",
   "metadata": {},
   "source": [
    "#### Accumulated return to maximum drawdown"
   ]
  },
  {
   "cell_type": "code",
   "execution_count": 139,
   "metadata": {},
   "outputs": [],
   "source": [
    "def return_to_drawdown(port_value, port_returns, allocated_capital):\n",
    "    for num, port in enumerate(port_value):\n",
    "        mdd = max_drawdown(port, allocated_capital)\n",
    "        cum_ret = port_returns[num].rolling(2).sum()[-1:]\n",
    "        print('accumulated return to maximum drawdown for {} is {}'.format(port.name, round((cum_ret / mdd)[0],2)))\n",
    "\n",
    "    port_mdd = max_drawdown(sum(raw_port_value), allocated_capital * len(port_value))\n",
    "    port_returns = sum(port_returns) / len(port_returns)\n",
    "    port_cum_ret = port_returns.rolling(2).sum()[-1:] \n",
    "    print('accumulated return to maximum drawdown for portfolio is {}'.format(round((port_cum_ret / port_mdd)[0],2)))"
   ]
  },
  {
   "cell_type": "code",
   "execution_count": 140,
   "metadata": {},
   "outputs": [
    {
     "name": "stdout",
     "output_type": "stream",
     "text": [
      "accumulated return to maximum drawdown for MSFT-CSCO is 9.05\n",
      "accumulated return to maximum drawdown for SHLDQ-EBAY is 6.13\n",
      "accumulated return to maximum drawdown for GLW-ADSK is 6.61\n",
      "accumulated return to maximum drawdown for C-GS is -0.38\n",
      "accumulated return to maximum drawdown for CSCO-BA is -1.28\n",
      "accumulated return to maximum drawdown for ORCL-GOOGL is 6.91\n",
      "accumulated return to maximum drawdown for INTC-CSCO is -0.92\n",
      "accumulated return to maximum drawdown for portfolio is 3.9\n"
     ]
    }
   ],
   "source": [
    "return_to_drawdown(raw_port_value, raw_returns, allocated_capital)"
   ]
  },
  {
   "cell_type": "markdown",
   "metadata": {},
   "source": [
    "#### 1-day VaR and Expected Shortfall"
   ]
  },
  {
   "cell_type": "code",
   "execution_count": 353,
   "metadata": {},
   "outputs": [],
   "source": [
    "#Excess distribution over threshold\n",
    "#Following https://core.ac.uk/download/pdf/81929493.pdf\n",
    "import scipy.stats as ss\n",
    "from copulas.multivariate import VineCopula\n",
    "\n",
    "def VaR(raw_returns, q, alpha, mode = 'none'):\n",
    "\n",
    "    df = 8 #since there are 8 parameters\n",
    "    arr = np.full((len(raw_returns[0]) - 1,len(raw_returns)), None)\n",
    "    pareto_params_l = []\n",
    "    stud_params = []\n",
    "    pareto_params_r = []\n",
    "    means = []\n",
    "    variances = []\n",
    "    for nn, rr in enumerate(raw_returns):\n",
    "        model = arma_garch(rr)\n",
    "        port_ret = np.array(model[0], dtype = 'float64')\n",
    "        means.append(model[2])\n",
    "        variances.append(model[1])\n",
    "        #left tail\n",
    "        \n",
    "        threshold = np.quantile(port_ret, q)\n",
    "        low_returns = port_ret[port_ret <= threshold]\n",
    "        pareto = ss.genpareto.fit(-low_returns) #since distribution is defined for right tail only\n",
    "        pareto_params_l.append(pareto)\n",
    "        cdf = ss.genpareto.cdf(-low_returns, *pareto)\n",
    "        arr[:len(cdf), nn] = cdf\n",
    "        \n",
    "        #interior - positive and negative\n",
    "        threshold_r = np.quantile(port_ret, 1 - q) # right tail\n",
    "        returns_c = port_ret[(threshold < port_ret) & (port_ret < threshold_r)]            \n",
    "        student = ss.t.fit(returns_c)\n",
    "        stud_params.append(student)\n",
    "        cdf_s = ss.t.cdf(returns_c, *student)\n",
    "        arr[len(cdf):len(cdf)+len(cdf_s), nn] = cdf_s\n",
    "        \n",
    "        \n",
    "        #right tail - positive\n",
    "       \n",
    "        high_returns = port_ret[port_ret >= threshold_r]\n",
    "        pareto_r = ss.genpareto.fit(high_returns) #since distribution is defined for right tail only\n",
    "        pareto_params_r.append(pareto_r)\n",
    "        cdf_r = ss.genpareto.cdf(high_returns, *pareto_r)\n",
    "        arr[len(cdf)+len(cdf_s):, nn] = cdf_r\n",
    "        \n",
    "    arr = np.nan_to_num(arr)    \n",
    "    var_data = pd.DataFrame(arr, dtype = 'float64')\n",
    "    #var_data = var_data.dropna(axis = 0, how = 'all')\n",
    "\n",
    "    copula = VineCopula('direct')\n",
    "    copula.fit(var_data)\n",
    "    copula_samples = copula.sample(3000)                                                                                        \n",
    "    var_returns = np.full(copula_samples.shape, 0, dtype = 'float64')\n",
    "    \n",
    "    for c in range(copula_samples.shape[1]):\n",
    "        \n",
    "        low_l = copula_samples.iloc[:, c].quantile(q)       \n",
    "        high_l = copula_samples.iloc[:, c].quantile(1 - q)   \n",
    "        \n",
    "        #left tail                                                                                     \n",
    "        params_l = pareto_params_l[c]\n",
    "        set_l =  copula_samples.iloc[:, c][copula_samples.iloc[:, c] <= low_l]                                                                                   \n",
    "        inv_l = ss.genpareto.ppf(set_l, *params_l) # return to standartized residuals\n",
    "        ret_est_l = inv_l * np.sqrt(variances[c]) * (df - 2) / df + means[c]  #since residuals are from Students distribution\n",
    "        var_returns[:len(ret_est_l), c] = -ret_est_l #because we passed them as positive previously\n",
    "        \n",
    "        #interior\n",
    "        params_c = stud_params[c]\n",
    "        set_c =  copula_samples.iloc[:, c][(low_l < copula_samples.iloc[:, c]) & (copula_samples.iloc[:, c]< high_l)]                                                                                      \n",
    "        inv_c = ss.t.ppf(set_c, *params_c) \n",
    "        ret_est_c = inv_c * np.sqrt(variances[c]) * (df - 2) / df + means[c] \n",
    "        var_returns[len(ret_est_l):len(ret_est_l)+len(ret_est_c), c] = ret_est_c   \n",
    "        \n",
    "        #right tail\n",
    "        params_r = pareto_params_r[c]\n",
    "        set_h =  copula_samples.iloc[:, c][copula_samples.iloc[:, c] >= high_l]                                                                                      \n",
    "        inv_r = ss.genpareto.ppf(set_h, *params_r) \n",
    "        ret_est_r = inv_r * np.sqrt(variances[c])*(df - 2) / df + means[c]\n",
    "        var_returns[len(ret_est_l)+len(ret_est_c):, c] = ret_est_r                                                                                        \n",
    "                                                                                             \n",
    "                                                                                             \n",
    "    var_returns = np.nan_to_num(var_returns)\n",
    "    var_port_ret = np.sum(var_returns, axis = 1) / var_returns.shape[1]\n",
    "    var = np.quantile(var_port_ret, alpha)\n",
    "    if mode != 'rachev':\n",
    "        print('VaR at {}% level is {}%'.format(alpha, round(var, 2)))\n",
    "    return var, var_port_ret\n",
    "\n",
    "def ES(var, var_port_ret, mode = 'none'):\n",
    "    shortfall = var_port_ret[var_port_ret < var].mean()\n",
    "    if mode != 'rachev':\n",
    "        print('Expected shortfall is {}%'.format(round(shortfall, 2)))\n",
    "    return shortfall"
   ]
  },
  {
   "cell_type": "code",
   "execution_count": 354,
   "metadata": {},
   "outputs": [
    {
     "name": "stdout",
     "output_type": "stream",
     "text": [
      "VaR at 0.05% level is -3.81%\n",
      "Expected shortfall is -5.01%\n"
     ]
    }
   ],
   "source": [
    "raw_var, raw_var_ret = VaR(raw_returns, 0.1, 0.05)\n",
    "raw_es = ES(raw_var, raw_var_ret)"
   ]
  },
  {
   "cell_type": "code",
   "execution_count": 355,
   "metadata": {},
   "outputs": [
    {
     "data": {
      "image/png": "[encoded data removed]",
      "text/plain": [
       "<Figure size 504x360 with 1 Axes>"
      ]
     },
     "metadata": {
      "needs_background": "light"
     },
     "output_type": "display_data"
    }
   ],
   "source": [
    "plt.figure(figsize=(7,5))\n",
    "plt.vlines(raw_var, 0, 300, color = 'red', label = 'VaR')\n",
    "plt.vlines(raw_es, 0, 300, color = 'green', label = 'Expected shortfall')\n",
    "plt.hist(raw_var_ret, bins = 100)\n",
    "plt.legend();"
   ]
  },
  {
   "cell_type": "markdown",
   "metadata": {},
   "source": [
    "#### Rachev Ratio"
   ]
  },
  {
   "cell_type": "code",
   "execution_count": 350,
   "metadata": {},
   "outputs": [],
   "source": [
    "def rachev_ratio(raw_returns):\n",
    "    var_l, returns_l = VaR(raw_returns, 0.1, 0.01, mode = 'rachev') # left tail\n",
    "    es_den = ES(var_l, returns_l, mode = 'rachev')\n",
    "    \n",
    "    reversed_returns = [] # reverse distribution\n",
    "    for r in raw_returns:\n",
    "        reversed_returns.append(-r)\n",
    "    \n",
    "    var_r, returns_r = VaR(reversed_returns, 0.1, 0.05, mode = 'rachev') # right tail\n",
    "    es_num = -ES(var_r, returns_r, mode = 'rachev')\n",
    "\n",
    "    print('Rachev ratio is {}'.format( - round(es_num / es_den, 2)))"
   ]
  },
  {
   "cell_type": "code",
   "execution_count": 351,
   "metadata": {},
   "outputs": [
    {
     "name": "stdout",
     "output_type": "stream",
     "text": [
      "Rachev ratio is 9.35\n"
     ]
    }
   ],
   "source": [
    "rachev_ratio(raw_returns)"
   ]
  },
  {
   "cell_type": "code",
   "execution_count": null,
   "metadata": {},
   "outputs": [],
   "source": []
  },
  {
   "cell_type": "code",
   "execution_count": null,
   "metadata": {},
   "outputs": [],
   "source": []
  },
  {
   "cell_type": "code",
   "execution_count": null,
   "metadata": {},
   "outputs": [],
   "source": []
  }
 ],
 "metadata": {
  "kernelspec": {
   "display_name": "Python 3",
   "language": "python",
   "name": "python3"
  },
  "language_info": {
   "codemirror_mode": {
    "name": "ipython",
    "version": 3
   },
   "file_extension": ".py",
   "mimetype": "text/x-python",
   "name": "python",
   "nbconvert_exporter": "python",
   "pygments_lexer": "ipython3",
   "version": "3.7.6"
  }
 },
 "nbformat": 4,
 "nbformat_minor": 4
}
